{
 "cells": [
  {
   "cell_type": "markdown",
   "metadata": {},
   "source": [
    "## The goal is to create rolling one step forecast of crimes per month with ARIMA"
   ]
  },
  {
   "cell_type": "code",
   "execution_count": 36,
   "metadata": {
    "collapsed": true
   },
   "outputs": [],
   "source": [
    "import pandas as pd\n",
    "import numpy as np\n",
    "import matplotlib.pyplot as plt\n",
    "import warnings\n",
    "warnings.filterwarnings('ignore')\n",
    "%matplotlib inline"
   ]
  },
  {
   "cell_type": "code",
   "execution_count": 37,
   "metadata": {
    "collapsed": true
   },
   "outputs": [],
   "source": [
    "alldata=pd.read_csv('full.csv')"
   ]
  },
  {
   "cell_type": "code",
   "execution_count": 38,
   "metadata": {},
   "outputs": [
    {
     "data": {
      "text/html": [
       "<div>\n",
       "<style>\n",
       "    .dataframe thead tr:only-child th {\n",
       "        text-align: right;\n",
       "    }\n",
       "\n",
       "    .dataframe thead th {\n",
       "        text-align: left;\n",
       "    }\n",
       "\n",
       "    .dataframe tbody tr th {\n",
       "        vertical-align: top;\n",
       "    }\n",
       "</style>\n",
       "<table border=\"1\" class=\"dataframe\">\n",
       "  <thead>\n",
       "    <tr style=\"text-align: right;\">\n",
       "      <th></th>\n",
       "      <th>COMPNOS</th>\n",
       "      <th>NatureCode</th>\n",
       "      <th>INCIDENT_TYPE_DESCRIPTION</th>\n",
       "      <th>MAIN_CRIMECODE</th>\n",
       "      <th>REPTDISTRICT</th>\n",
       "      <th>REPORTINGAREA</th>\n",
       "      <th>FROMDATE</th>\n",
       "      <th>WEAPONTYPE</th>\n",
       "      <th>Shooting</th>\n",
       "      <th>DOMESTIC</th>\n",
       "      <th>SHIFT</th>\n",
       "      <th>Year</th>\n",
       "      <th>Month</th>\n",
       "      <th>DAY_WEEK</th>\n",
       "      <th>UCRPART</th>\n",
       "      <th>X</th>\n",
       "      <th>Y</th>\n",
       "      <th>STREETNAME</th>\n",
       "      <th>XSTREETNAME</th>\n",
       "      <th>Location</th>\n",
       "    </tr>\n",
       "  </thead>\n",
       "  <tbody>\n",
       "    <tr>\n",
       "      <th>0</th>\n",
       "      <td>120420285.0</td>\n",
       "      <td>BERPTA</td>\n",
       "      <td>RESIDENTIAL BURGLARY</td>\n",
       "      <td>05RB</td>\n",
       "      <td>D4</td>\n",
       "      <td>629</td>\n",
       "      <td>07/08/2012 06:00:00 AM</td>\n",
       "      <td>Other</td>\n",
       "      <td>No</td>\n",
       "      <td>No</td>\n",
       "      <td>Last</td>\n",
       "      <td>2012</td>\n",
       "      <td>7</td>\n",
       "      <td>Sunday</td>\n",
       "      <td>Part One</td>\n",
       "      <td>763273.1791</td>\n",
       "      <td>2951498.962</td>\n",
       "      <td>ABERDEEN ST</td>\n",
       "      <td>NaN</td>\n",
       "      <td>(42.34638135, -71.10379454)</td>\n",
       "    </tr>\n",
       "    <tr>\n",
       "      <th>1</th>\n",
       "      <td>120419202.0</td>\n",
       "      <td>PSHOT</td>\n",
       "      <td>AGGRAVATED ASSAULT</td>\n",
       "      <td>04xx</td>\n",
       "      <td>B2</td>\n",
       "      <td>327</td>\n",
       "      <td>07/08/2012 06:03:00 AM</td>\n",
       "      <td>Firearm</td>\n",
       "      <td>Yes</td>\n",
       "      <td>No</td>\n",
       "      <td>Last</td>\n",
       "      <td>2012</td>\n",
       "      <td>7</td>\n",
       "      <td>Sunday</td>\n",
       "      <td>Part One</td>\n",
       "      <td>771223.1638</td>\n",
       "      <td>2940772.099</td>\n",
       "      <td>HOWARD AV</td>\n",
       "      <td>NaN</td>\n",
       "      <td>(42.31684135, -71.07458456)</td>\n",
       "    </tr>\n",
       "    <tr>\n",
       "      <th>2</th>\n",
       "      <td>120419213.0</td>\n",
       "      <td>ARMROB</td>\n",
       "      <td>ROBBERY</td>\n",
       "      <td>03xx</td>\n",
       "      <td>D4</td>\n",
       "      <td>625</td>\n",
       "      <td>07/08/2012 06:26:00 AM</td>\n",
       "      <td>Firearm</td>\n",
       "      <td>No</td>\n",
       "      <td>No</td>\n",
       "      <td>Last</td>\n",
       "      <td>2012</td>\n",
       "      <td>7</td>\n",
       "      <td>Sunday</td>\n",
       "      <td>Part One</td>\n",
       "      <td>765118.8605</td>\n",
       "      <td>2950217.536</td>\n",
       "      <td>JERSEY ST</td>\n",
       "      <td>QUEENSBERRY ST</td>\n",
       "      <td>(42.34284135, -71.09698955)</td>\n",
       "    </tr>\n",
       "    <tr>\n",
       "      <th>3</th>\n",
       "      <td>120419223.0</td>\n",
       "      <td>ALARMC</td>\n",
       "      <td>COMMERCIAL BURGLARY</td>\n",
       "      <td>05CB</td>\n",
       "      <td>B2</td>\n",
       "      <td>258</td>\n",
       "      <td>07/08/2012 06:56:00 AM</td>\n",
       "      <td>Other</td>\n",
       "      <td>No</td>\n",
       "      <td>No</td>\n",
       "      <td>Last</td>\n",
       "      <td>2012</td>\n",
       "      <td>7</td>\n",
       "      <td>Sunday</td>\n",
       "      <td>Part One</td>\n",
       "      <td>773591.8648</td>\n",
       "      <td>2940638.174</td>\n",
       "      <td>COLUMBIA RD</td>\n",
       "      <td>NaN</td>\n",
       "      <td>(42.3164411, -71.06582908)</td>\n",
       "    </tr>\n",
       "    <tr>\n",
       "      <th>4</th>\n",
       "      <td>120419236.0</td>\n",
       "      <td>ARMROB</td>\n",
       "      <td>ROBBERY</td>\n",
       "      <td>03xx</td>\n",
       "      <td>E18</td>\n",
       "      <td>496</td>\n",
       "      <td>07/08/2012 07:15:00 AM</td>\n",
       "      <td>Firearm</td>\n",
       "      <td>No</td>\n",
       "      <td>No</td>\n",
       "      <td>Last</td>\n",
       "      <td>2012</td>\n",
       "      <td>7</td>\n",
       "      <td>Sunday</td>\n",
       "      <td>Part One</td>\n",
       "      <td>759042.7315</td>\n",
       "      <td>2923832.681</td>\n",
       "      <td>COLLINS ST</td>\n",
       "      <td>NaN</td>\n",
       "      <td>(42.27051636, -71.11989955)</td>\n",
       "    </tr>\n",
       "  </tbody>\n",
       "</table>\n",
       "</div>"
      ],
      "text/plain": [
       "       COMPNOS NatureCode INCIDENT_TYPE_DESCRIPTION MAIN_CRIMECODE  \\\n",
       "0  120420285.0     BERPTA      RESIDENTIAL BURGLARY           05RB   \n",
       "1  120419202.0     PSHOT         AGGRAVATED ASSAULT           04xx   \n",
       "2  120419213.0     ARMROB                   ROBBERY           03xx   \n",
       "3  120419223.0     ALARMC       COMMERCIAL BURGLARY           05CB   \n",
       "4  120419236.0     ARMROB                   ROBBERY           03xx   \n",
       "\n",
       "  REPTDISTRICT  REPORTINGAREA                FROMDATE WEAPONTYPE Shooting  \\\n",
       "0           D4            629  07/08/2012 06:00:00 AM      Other       No   \n",
       "1           B2            327  07/08/2012 06:03:00 AM    Firearm      Yes   \n",
       "2           D4            625  07/08/2012 06:26:00 AM    Firearm       No   \n",
       "3           B2            258  07/08/2012 06:56:00 AM      Other       No   \n",
       "4          E18            496  07/08/2012 07:15:00 AM    Firearm       No   \n",
       "\n",
       "  DOMESTIC SHIFT  Year  Month DAY_WEEK   UCRPART            X            Y  \\\n",
       "0       No  Last  2012      7   Sunday  Part One  763273.1791  2951498.962   \n",
       "1       No  Last  2012      7   Sunday  Part One  771223.1638  2940772.099   \n",
       "2       No  Last  2012      7   Sunday  Part One  765118.8605  2950217.536   \n",
       "3       No  Last  2012      7   Sunday  Part One  773591.8648  2940638.174   \n",
       "4       No  Last  2012      7   Sunday  Part One  759042.7315  2923832.681   \n",
       "\n",
       "    STREETNAME     XSTREETNAME                     Location  \n",
       "0  ABERDEEN ST             NaN  (42.34638135, -71.10379454)  \n",
       "1    HOWARD AV             NaN  (42.31684135, -71.07458456)  \n",
       "2    JERSEY ST  QUEENSBERRY ST  (42.34284135, -71.09698955)  \n",
       "3  COLUMBIA RD             NaN   (42.3164411, -71.06582908)  \n",
       "4   COLLINS ST             NaN  (42.27051636, -71.11989955)  "
      ]
     },
     "execution_count": 38,
     "metadata": {},
     "output_type": "execute_result"
    }
   ],
   "source": [
    "alldata.head()"
   ]
  },
  {
   "cell_type": "code",
   "execution_count": 39,
   "metadata": {},
   "outputs": [
    {
     "data": {
      "text/plain": [
       "(268056, 20)"
      ]
     },
     "execution_count": 39,
     "metadata": {},
     "output_type": "execute_result"
    }
   ],
   "source": [
    "alldata.shape"
   ]
  },
  {
   "cell_type": "code",
   "execution_count": 40,
   "metadata": {},
   "outputs": [
    {
     "name": "stdout",
     "output_type": "stream",
     "text": [
      "<class 'pandas.core.frame.DataFrame'>\n",
      "RangeIndex: 268056 entries, 0 to 268055\n",
      "Data columns (total 20 columns):\n",
      "COMPNOS                      255797 non-null float64\n",
      "NatureCode                   266391 non-null object\n",
      "INCIDENT_TYPE_DESCRIPTION    268056 non-null object\n",
      "MAIN_CRIMECODE               268056 non-null object\n",
      "REPTDISTRICT                 267699 non-null object\n",
      "REPORTINGAREA                268056 non-null int64\n",
      "FROMDATE                     268056 non-null object\n",
      "WEAPONTYPE                   268056 non-null object\n",
      "Shooting                     268056 non-null object\n",
      "DOMESTIC                     268056 non-null object\n",
      "SHIFT                        255791 non-null object\n",
      "Year                         268056 non-null int64\n",
      "Month                        268056 non-null int64\n",
      "DAY_WEEK                     268056 non-null object\n",
      "UCRPART                      268056 non-null object\n",
      "X                            253075 non-null float64\n",
      "Y                            253075 non-null float64\n",
      "STREETNAME                   267822 non-null object\n",
      "XSTREETNAME                  48682 non-null object\n",
      "Location                     268056 non-null object\n",
      "dtypes: float64(3), int64(3), object(14)\n",
      "memory usage: 40.9+ MB\n"
     ]
    }
   ],
   "source": [
    "alldata.info()"
   ]
  },
  {
   "cell_type": "markdown",
   "metadata": {},
   "source": [
    "Drop COMPNOS and UCRPART as these are internal BDP report number, not useful for analysis. Dropping XSTREETNAME as it has way to many missing data and is not crucial for analysis."
   ]
  },
  {
   "cell_type": "code",
   "execution_count": 41,
   "metadata": {
    "collapsed": true
   },
   "outputs": [],
   "source": [
    "alldata=alldata.drop(['COMPNOS','XSTREETNAME','UCRPART'],axis=1)"
   ]
  },
  {
   "cell_type": "markdown",
   "metadata": {},
   "source": [
    "Dropping all rows with missing values, there is still over 240k rows left, all of them with full data. Through this operation over 24k rows are deleted, which is a little over 9% of data I began with."
   ]
  },
  {
   "cell_type": "code",
   "execution_count": 42,
   "metadata": {},
   "outputs": [
    {
     "data": {
      "text/plain": [
       "(243547, 17)"
      ]
     },
     "execution_count": 42,
     "metadata": {},
     "output_type": "execute_result"
    }
   ],
   "source": [
    "alldata=alldata.dropna()\n",
    "alldata.shape"
   ]
  },
  {
   "cell_type": "code",
   "execution_count": 43,
   "metadata": {},
   "outputs": [
    {
     "data": {
      "text/plain": [
       "array(['RESIDENTIAL BURGLARY', 'AGGRAVATED ASSAULT', 'ROBBERY',\n",
       "       'COMMERCIAL BURGLARY', 'SIMPLE ASSAULT', 'MedAssist', 'BENoProp',\n",
       "       'VAL', 'FRAUD', 'PropFound', 'InvPer', 'TOWED', 'WEAPONS CHARGE',\n",
       "       'InvProp', 'DRUG CHARGES', 'PersLoc', 'PropLost', 'OTHER LARCENY',\n",
       "       'AUTO THEFT', 'Arrest', 'VANDALISM', 'MVAcc',\n",
       "       'CRIMES AGAINST CHILDREN', 'PhoneCalls',\n",
       "       'LARCENY FROM MOTOR VEHICLE', 'FIRE', 'Ballist', 'PubDrink',\n",
       "       'Argue', 'Restrain', 'Gather', 'Service', 'SkipFare', 'SearchWarr',\n",
       "       '32GUN', 'Harass', 'EMBEZELLMENT', 'OTHER', 'PRISON', 'FORGERY',\n",
       "       'PersMiss', 'DEATH INVESTIGATION', 'LICViol', 'Landlord',\n",
       "       'Hazardous', 'Plates', '07RV', 'PropDam', 'SexReg', 'HOMICIDE',\n",
       "       'OPERATING UNDER INFLUENCE', 'STOLEN PROPERTY CHARGES', 'Runaway',\n",
       "       'DISORDERLY', 'HateCrim', 'PROSTITUTION CHARGES', 'TRESPASS',\n",
       "       'ARSON', 'BurgTools', 'Explos', 'VIOLATION OF LIQUOR LAWS',\n",
       "       'Harbor', 'InvVeh', 'Bomb', 'Aircraft', 'Labor', 'Manslaug',\n",
       "       'GAMBLING OFFENSE', 'BioThreat'], dtype=object)"
      ]
     },
     "execution_count": 43,
     "metadata": {},
     "output_type": "execute_result"
    }
   ],
   "source": [
    "alldata['INCIDENT_TYPE_DESCRIPTION'].unique()"
   ]
  },
  {
   "cell_type": "code",
   "execution_count": 44,
   "metadata": {},
   "outputs": [
    {
     "data": {
      "text/plain": [
       "array(['D4', 'B2', 'E18', 'C11', 'A1', 'D14', 'C6', 'E13', 'B3', 'A7',\n",
       "       'A15', 'E5'], dtype=object)"
      ]
     },
     "execution_count": 44,
     "metadata": {},
     "output_type": "execute_result"
    }
   ],
   "source": [
    "alldata['REPTDISTRICT'].unique()"
   ]
  },
  {
   "cell_type": "markdown",
   "metadata": {},
   "source": [
    "All Boston PD districts are represented according to http://bpdnews.com/districts/"
   ]
  },
  {
   "cell_type": "code",
   "execution_count": 45,
   "metadata": {},
   "outputs": [
    {
     "data": {
      "text/plain": [
       "array(['Other', 'Firearm', 'Unarmed', 'Knife'], dtype=object)"
      ]
     },
     "execution_count": 45,
     "metadata": {},
     "output_type": "execute_result"
    }
   ],
   "source": [
    "alldata['WEAPONTYPE'].unique()"
   ]
  },
  {
   "cell_type": "code",
   "execution_count": 46,
   "metadata": {},
   "outputs": [
    {
     "data": {
      "text/plain": [
       "array(['Last', 'Day', 'First'], dtype=object)"
      ]
     },
     "execution_count": 46,
     "metadata": {},
     "output_type": "execute_result"
    }
   ],
   "source": [
    "alldata['SHIFT'].unique()"
   ]
  },
  {
   "cell_type": "code",
   "execution_count": 47,
   "metadata": {},
   "outputs": [
    {
     "data": {
      "text/plain": [
       "array(['BERPTA', 'PSHOT ', 'ARMROB', 'ALARMC', 'SHOT  ', 'THREAT',\n",
       "       'REQP  ', 'ALARMI', 'BEIP  ', 'IVMV  ', 'LARCRT', 'FDPROP',\n",
       "       'ILLPRK', 'INVEST', 'INJOFF', 'INVCHD', 'IVDRUG', 'ARREST',\n",
       "       'MVANO ', 'ABRPT ', 'BERPT ', 'MISPER', 'UNK   ', 'LSTPRP',\n",
       "       'STOLMV', 'BURN1 ', 'IVPER ', 'VANRPT', 'FIGHT ', 'PDRPT ',\n",
       "       'IVPREM', 'BEMVRT', 'DVIP  ', 'FIRE  ', 'OVRDOS', 'ABIP  ',\n",
       "       'DOGRPT', 'CD99  ', 'NIDV  ', 'HARPT ', 'PERGUN', 'ALARMH',\n",
       "       'MVPED1', 'HITRUN', 'STOLEN', 'VIORDR', 'MISCRP', 'MVPED2',\n",
       "       'UNCONS', 'EDP2  ', 'CARST ', 'HOMINV', 'CD9   ', 'PKNIFE',\n",
       "       'SHOTS ', 'MEET  ', 'MISC  ', 'ABDWRP', 'DISTRB', 'VANIP ',\n",
       "       'ASTEMS', 'TSTOP ', 'MVA   ', 'TRANSP', 'CD11  ', 'LARCIP',\n",
       "       'MVAINJ', 'SHPLFT', 'FIREB ', 'TRAUMA', 'SDNDTH', 'CD35  ',\n",
       "       'IVLIC ', 'ROBRPT', 'ROBIP ', 'TRACK ', 'FDWEAP', 'CD19  ',\n",
       "       'SSTOP ', 'ALARMX', 'ABDWIP', 'MVBLDR', 'STAB  ', 'MVARPT',\n",
       "       'CRIP  ', 'TRESPS', 'MVACC ', 'AOD   ', 'MSNCOM', 'FDCHLD',\n",
       "       'ALARMR', 'SUSPER', 'GANG  ', 'SEXOFF', 'DOGBIT', 'PRSCRM',\n",
       "       'FV    ', 'CD15  ', 'BOMBT ', 'LANTEN', 'ALARMM', 'REQEP ',\n",
       "       'CARBLK', 'CURFEW', 'ALARMP', 'SCHALM', 'TRFFIC', 'DROWN ',\n",
       "       'CARJAK', 'CD5   ', 'STNING', 'LMUSIC', 'RECMV ', 'HAZ   ',\n",
       "       'ALARM ', 'CD19IV', 'CD7   ', 'REMOVE', 'REQPE ', 'ASSTPO',\n",
       "       'DKDIST', 'PARTY ', 'MVADD ', 'RECMVO', 'ASLTIP', 'ALARMV',\n",
       "       'ABANRE', 'CHOKE ', 'DWNPWR', 'CD16  ', 'CHDABU', 'VIOMVL',\n",
       "       'CD19RA', 'REQFP ', 'CD14  ', 'COLB  ', 'HITOBJ', 'ABANMV',\n",
       "       'REQPF ', 'DMV   ', 'CONFPR', 'HAZMT2', 'EMSMVA', 'PANHAN',\n",
       "       'LCKOUT', 'ALARMB', 'PROTES', 'LOCK  ', 'RECMVI', 'INJRPT',\n",
       "       'MVINV ', 'PRWLER', 'JUMPER', 'BOMB  ', 'SUSLET', 'DK    ',\n",
       "       'CD24  ', 'INJAML', 'ALERT2', 'LARCEN', 'EXHEM1', 'ENVADM',\n",
       "       'VICDOG', 'NOISE ', 'CLOSE ', 'PROSTI', 'RAPEIP', 'IVPER', 'HAZMAT',\n",
       "       'CRASH ', 'PRIOR ', 'OT    ', 'STALK ', 'KIDNAP', 'ABANBU',\n",
       "       'RAPRPT', 'HAZARD', 'HLDPRI', 'TRAUMX', 'CD303 ', 'CD1   ',\n",
       "       'CTYALM', 'CD4   ', 'CD25  ', 'CD8   ', 'ESCAPP', 'CD23  ',\n",
       "       'SILCAL', 'CD26  ', 'ARSRPT', 'CD10  ', 'OVRCRD', 'FDBODY',\n",
       "       'BIOT  ', 'BRKDOG', 'TEST  ', 'TREE  ', 'FIRWKS', 'CD13  ',\n",
       "       'VANGRP', 'MISC', 'TRPSCH', 'CD18  ', 'UNK', 'FELONY', 'VANGRI',\n",
       "       'NOTIFY', 'MVAE  ', 'PROP', 'CODE99', 'VAND', 'REQBHA', 'CD20  ',\n",
       "       'EXPLOS', 'VIDEOC', 'REFER ', 'CD6   ', 'DRUNKS', 'NOISMV',\n",
       "       'ANMRPT', 'CD17  ', 'ABANPH', 'VNDINV', 'ADMRPT', 'DETAIL',\n",
       "       'CD303A', 'CD28  ', 'IVMV', 'AU    ', 'ANMBIT', 'CD3   ', 'BE',\n",
       "       'MVA', 'HSTG  ', 'AB', 'REQP', 'ROBBER', 'DVIP', 'BUYBAK', 'MISSIN',\n",
       "       'SS', 'BOMBR ', 'CD9', 'TS', 'SHOTS', 'CD11', 'AOD', 'NIDV',\n",
       "       'C99   ', 'CD7', 'FIGHT', 'CD35', 'BOMB', 'reqp', 'LOCKOU', 'EDP',\n",
       "       'STAB', 'PSHOT', 'CARDIA', 'FO', 'ALARM', 'FIRE', 'CD19', 'STREET',\n",
       "       'UNKEMS', 'POISON', 'CD14', 'CD5', 'CD13', 'PRIOR', 'SP', 'cd11',\n",
       "       'SUSOBJ', 'OT', 'CD16', 'cd9', 'INJ', 'ABAN', 'CD23', 'CD15', 'CD4',\n",
       "       'cd16', 'CD99', 'aod', 'TP', 'BUYBAC', 'CD12', 'REQEP', 'CD24',\n",
       "       'CD26', 'TESTBP', 'RESP', 'CD303', 'SSA', 'LOGAN', 'RAPE', 'DROWN',\n",
       "       'CD19F', 'CD8', 'unkems', 'Prscrm', 'BLEED', 'BURN', 'fight',\n",
       "       'ADVISE', 'REQH', 'MAJOR', 'SNOW', 'ts', 'CD19S', 'BOLO'], dtype=object)"
      ]
     },
     "execution_count": 47,
     "metadata": {},
     "output_type": "execute_result"
    }
   ],
   "source": [
    "alldata['NatureCode'].unique()"
   ]
  },
  {
   "cell_type": "code",
   "execution_count": 48,
   "metadata": {},
   "outputs": [
    {
     "name": "stdout",
     "output_type": "stream",
     "text": [
      "['05RB' '04xx' '03xx' '05CB' '08xx' 'MedAssist' 'BENoProp' 'VAL' '11xx'\n",
      " 'PropFound' 'InvPer' 'TOWED' '15xx' 'InvProp' '18xx' 'PersLoc' 'PropLost'\n",
      " '06xx' '07xx' 'Arrest' '14xx' 'MVAcc' '20xx' 'PhoneCalls' '06MV' 'FIRE'\n",
      " 'Ballist' 'PubDrink' 'Argue' 'Restrain' 'Gather' 'Service' 'SkipFare'\n",
      " 'SearchWarr' '32GUN' 'Harass' '12xx' 'OTHER' 'PRISON' '10xx' 'PersMiss'\n",
      " '01INV' 'LICViol' 'Landlord' 'Hazardous' 'Plates' '07RV' 'PropDam'\n",
      " 'SexReg' '01xx' '21xx' '13xx' 'Runaway' '24xx' 'HateCrim' '16xx'\n",
      " 'TRESPASS' '09xx' 'BurgTools' 'Explos' '22xx' 'Harbor' 'InvVeh' 'Bomb'\n",
      " 'Aircraft' 'Labor' 'Manslaug' '19xx' 'BioThreat']\n",
      "69\n"
     ]
    }
   ],
   "source": [
    "print (alldata['MAIN_CRIMECODE'].unique())\n",
    "print (len(alldata['MAIN_CRIMECODE'].unique()))"
   ]
  },
  {
   "cell_type": "markdown",
   "metadata": {},
   "source": [
    "With 77 possible outcomes the range of categories is too broad.\n",
    "\n",
    "The remaining possibility is to create a binary category of a violent crime. The division would be the WEAPONTYPE - if the criminal is armed the crime is supposed to be violent."
   ]
  },
  {
   "cell_type": "code",
   "execution_count": 49,
   "metadata": {
    "collapsed": true
   },
   "outputs": [],
   "source": [
    "alldata.loc[(alldata['WEAPONTYPE']=='Unarmed'),'VIOLENT']=0\n",
    "alldata.loc[(alldata['WEAPONTYPE']!='Unarmed')&(alldata['WEAPONTYPE']!='Personal Weapon (hand  foot  etc.)'),'VIOLENT']=1"
   ]
  },
  {
   "cell_type": "code",
   "execution_count": 50,
   "metadata": {},
   "outputs": [
    {
     "data": {
      "text/html": [
       "<div>\n",
       "<style>\n",
       "    .dataframe thead tr:only-child th {\n",
       "        text-align: right;\n",
       "    }\n",
       "\n",
       "    .dataframe thead th {\n",
       "        text-align: left;\n",
       "    }\n",
       "\n",
       "    .dataframe tbody tr th {\n",
       "        vertical-align: top;\n",
       "    }\n",
       "</style>\n",
       "<table border=\"1\" class=\"dataframe\">\n",
       "  <thead>\n",
       "    <tr style=\"text-align: right;\">\n",
       "      <th>col_0</th>\n",
       "      <th>sum</th>\n",
       "    </tr>\n",
       "    <tr>\n",
       "      <th>WEAPONTYPE</th>\n",
       "      <th></th>\n",
       "    </tr>\n",
       "  </thead>\n",
       "  <tbody>\n",
       "    <tr>\n",
       "      <th>Firearm</th>\n",
       "      <td>4917</td>\n",
       "    </tr>\n",
       "    <tr>\n",
       "      <th>Knife</th>\n",
       "      <td>3713</td>\n",
       "    </tr>\n",
       "    <tr>\n",
       "      <th>Other</th>\n",
       "      <td>49895</td>\n",
       "    </tr>\n",
       "    <tr>\n",
       "      <th>Unarmed</th>\n",
       "      <td>185022</td>\n",
       "    </tr>\n",
       "  </tbody>\n",
       "</table>\n",
       "</div>"
      ],
      "text/plain": [
       "col_0          sum\n",
       "WEAPONTYPE        \n",
       "Firearm       4917\n",
       "Knife         3713\n",
       "Other        49895\n",
       "Unarmed     185022"
      ]
     },
     "execution_count": 50,
     "metadata": {},
     "output_type": "execute_result"
    }
   ],
   "source": [
    "pd.crosstab(index=alldata['WEAPONTYPE'],columns='sum')"
   ]
  },
  {
   "cell_type": "code",
   "execution_count": 51,
   "metadata": {},
   "outputs": [
    {
     "data": {
      "text/html": [
       "<div>\n",
       "<style>\n",
       "    .dataframe thead tr:only-child th {\n",
       "        text-align: right;\n",
       "    }\n",
       "\n",
       "    .dataframe thead th {\n",
       "        text-align: left;\n",
       "    }\n",
       "\n",
       "    .dataframe tbody tr th {\n",
       "        vertical-align: top;\n",
       "    }\n",
       "</style>\n",
       "<table border=\"1\" class=\"dataframe\">\n",
       "  <thead>\n",
       "    <tr style=\"text-align: right;\">\n",
       "      <th>col_0</th>\n",
       "      <th>sum</th>\n",
       "    </tr>\n",
       "    <tr>\n",
       "      <th>VIOLENT</th>\n",
       "      <th></th>\n",
       "    </tr>\n",
       "  </thead>\n",
       "  <tbody>\n",
       "    <tr>\n",
       "      <th>0.0</th>\n",
       "      <td>185022</td>\n",
       "    </tr>\n",
       "    <tr>\n",
       "      <th>1.0</th>\n",
       "      <td>58525</td>\n",
       "    </tr>\n",
       "  </tbody>\n",
       "</table>\n",
       "</div>"
      ],
      "text/plain": [
       "col_0       sum\n",
       "VIOLENT        \n",
       "0.0      185022\n",
       "1.0       58525"
      ]
     },
     "execution_count": 51,
     "metadata": {},
     "output_type": "execute_result"
    }
   ],
   "source": [
    "pd.crosstab(index=alldata['VIOLENT'],columns='sum')"
   ]
  },
  {
   "cell_type": "code",
   "execution_count": 52,
   "metadata": {
    "collapsed": true
   },
   "outputs": [],
   "source": [
    "alldata['FROMDATEDAY'] = pd.to_datetime(alldata['FROMDATE'], format='%m/%d/%Y %I:%M:%S %p')\n",
    "alldata.set_index('FROMDATEDAY', inplace=True)\n",
    "alldata.sort_index(inplace=True)"
   ]
  },
  {
   "cell_type": "code",
   "execution_count": 53,
   "metadata": {
    "collapsed": true
   },
   "outputs": [],
   "source": [
    "alldata['DAY'] = alldata.index.day\n",
    "alldata['HOUR'] = alldata.index.hour"
   ]
  },
  {
   "cell_type": "markdown",
   "metadata": {},
   "source": [
    "Adding counter column to later count events by day"
   ]
  },
  {
   "cell_type": "code",
   "execution_count": 54,
   "metadata": {
    "collapsed": true
   },
   "outputs": [],
   "source": [
    "alldata['COUNT'] = 1"
   ]
  },
  {
   "cell_type": "code",
   "execution_count": 55,
   "metadata": {},
   "outputs": [
    {
     "data": {
      "text/html": [
       "<div>\n",
       "<style>\n",
       "    .dataframe thead tr:only-child th {\n",
       "        text-align: right;\n",
       "    }\n",
       "\n",
       "    .dataframe thead th {\n",
       "        text-align: left;\n",
       "    }\n",
       "\n",
       "    .dataframe tbody tr th {\n",
       "        vertical-align: top;\n",
       "    }\n",
       "</style>\n",
       "<table border=\"1\" class=\"dataframe\">\n",
       "  <thead>\n",
       "    <tr style=\"text-align: right;\">\n",
       "      <th></th>\n",
       "      <th>NatureCode</th>\n",
       "      <th>INCIDENT_TYPE_DESCRIPTION</th>\n",
       "      <th>MAIN_CRIMECODE</th>\n",
       "      <th>REPTDISTRICT</th>\n",
       "      <th>REPORTINGAREA</th>\n",
       "      <th>FROMDATE</th>\n",
       "      <th>WEAPONTYPE</th>\n",
       "      <th>Shooting</th>\n",
       "      <th>DOMESTIC</th>\n",
       "      <th>SHIFT</th>\n",
       "      <th>...</th>\n",
       "      <th>Month</th>\n",
       "      <th>DAY_WEEK</th>\n",
       "      <th>X</th>\n",
       "      <th>Y</th>\n",
       "      <th>STREETNAME</th>\n",
       "      <th>Location</th>\n",
       "      <th>VIOLENT</th>\n",
       "      <th>DAY</th>\n",
       "      <th>HOUR</th>\n",
       "      <th>COUNT</th>\n",
       "    </tr>\n",
       "    <tr>\n",
       "      <th>FROMDATEDAY</th>\n",
       "      <th></th>\n",
       "      <th></th>\n",
       "      <th></th>\n",
       "      <th></th>\n",
       "      <th></th>\n",
       "      <th></th>\n",
       "      <th></th>\n",
       "      <th></th>\n",
       "      <th></th>\n",
       "      <th></th>\n",
       "      <th></th>\n",
       "      <th></th>\n",
       "      <th></th>\n",
       "      <th></th>\n",
       "      <th></th>\n",
       "      <th></th>\n",
       "      <th></th>\n",
       "      <th></th>\n",
       "      <th></th>\n",
       "      <th></th>\n",
       "      <th></th>\n",
       "    </tr>\n",
       "  </thead>\n",
       "  <tbody>\n",
       "    <tr>\n",
       "      <th>2012-07-08 06:00:00</th>\n",
       "      <td>BERPTA</td>\n",
       "      <td>RESIDENTIAL BURGLARY</td>\n",
       "      <td>05RB</td>\n",
       "      <td>D4</td>\n",
       "      <td>629</td>\n",
       "      <td>07/08/2012 06:00:00 AM</td>\n",
       "      <td>Other</td>\n",
       "      <td>No</td>\n",
       "      <td>No</td>\n",
       "      <td>Last</td>\n",
       "      <td>...</td>\n",
       "      <td>7</td>\n",
       "      <td>Sunday</td>\n",
       "      <td>763273.1791</td>\n",
       "      <td>2951498.962</td>\n",
       "      <td>ABERDEEN ST</td>\n",
       "      <td>(42.34638135, -71.10379454)</td>\n",
       "      <td>1.0</td>\n",
       "      <td>8</td>\n",
       "      <td>6</td>\n",
       "      <td>1</td>\n",
       "    </tr>\n",
       "    <tr>\n",
       "      <th>2012-07-08 06:03:00</th>\n",
       "      <td>PSHOT</td>\n",
       "      <td>AGGRAVATED ASSAULT</td>\n",
       "      <td>04xx</td>\n",
       "      <td>B2</td>\n",
       "      <td>327</td>\n",
       "      <td>07/08/2012 06:03:00 AM</td>\n",
       "      <td>Firearm</td>\n",
       "      <td>Yes</td>\n",
       "      <td>No</td>\n",
       "      <td>Last</td>\n",
       "      <td>...</td>\n",
       "      <td>7</td>\n",
       "      <td>Sunday</td>\n",
       "      <td>771223.1638</td>\n",
       "      <td>2940772.099</td>\n",
       "      <td>HOWARD AV</td>\n",
       "      <td>(42.31684135, -71.07458456)</td>\n",
       "      <td>1.0</td>\n",
       "      <td>8</td>\n",
       "      <td>6</td>\n",
       "      <td>1</td>\n",
       "    </tr>\n",
       "    <tr>\n",
       "      <th>2012-07-08 06:26:00</th>\n",
       "      <td>ARMROB</td>\n",
       "      <td>ROBBERY</td>\n",
       "      <td>03xx</td>\n",
       "      <td>D4</td>\n",
       "      <td>625</td>\n",
       "      <td>07/08/2012 06:26:00 AM</td>\n",
       "      <td>Firearm</td>\n",
       "      <td>No</td>\n",
       "      <td>No</td>\n",
       "      <td>Last</td>\n",
       "      <td>...</td>\n",
       "      <td>7</td>\n",
       "      <td>Sunday</td>\n",
       "      <td>765118.8605</td>\n",
       "      <td>2950217.536</td>\n",
       "      <td>JERSEY ST</td>\n",
       "      <td>(42.34284135, -71.09698955)</td>\n",
       "      <td>1.0</td>\n",
       "      <td>8</td>\n",
       "      <td>6</td>\n",
       "      <td>1</td>\n",
       "    </tr>\n",
       "    <tr>\n",
       "      <th>2012-07-08 06:56:00</th>\n",
       "      <td>ALARMC</td>\n",
       "      <td>COMMERCIAL BURGLARY</td>\n",
       "      <td>05CB</td>\n",
       "      <td>B2</td>\n",
       "      <td>258</td>\n",
       "      <td>07/08/2012 06:56:00 AM</td>\n",
       "      <td>Other</td>\n",
       "      <td>No</td>\n",
       "      <td>No</td>\n",
       "      <td>Last</td>\n",
       "      <td>...</td>\n",
       "      <td>7</td>\n",
       "      <td>Sunday</td>\n",
       "      <td>773591.8648</td>\n",
       "      <td>2940638.174</td>\n",
       "      <td>COLUMBIA RD</td>\n",
       "      <td>(42.3164411, -71.06582908)</td>\n",
       "      <td>1.0</td>\n",
       "      <td>8</td>\n",
       "      <td>6</td>\n",
       "      <td>1</td>\n",
       "    </tr>\n",
       "    <tr>\n",
       "      <th>2012-07-08 07:15:00</th>\n",
       "      <td>ARMROB</td>\n",
       "      <td>ROBBERY</td>\n",
       "      <td>03xx</td>\n",
       "      <td>E18</td>\n",
       "      <td>496</td>\n",
       "      <td>07/08/2012 07:15:00 AM</td>\n",
       "      <td>Firearm</td>\n",
       "      <td>No</td>\n",
       "      <td>No</td>\n",
       "      <td>Last</td>\n",
       "      <td>...</td>\n",
       "      <td>7</td>\n",
       "      <td>Sunday</td>\n",
       "      <td>759042.7315</td>\n",
       "      <td>2923832.681</td>\n",
       "      <td>COLLINS ST</td>\n",
       "      <td>(42.27051636, -71.11989955)</td>\n",
       "      <td>1.0</td>\n",
       "      <td>8</td>\n",
       "      <td>7</td>\n",
       "      <td>1</td>\n",
       "    </tr>\n",
       "  </tbody>\n",
       "</table>\n",
       "<p>5 rows × 21 columns</p>\n",
       "</div>"
      ],
      "text/plain": [
       "                    NatureCode INCIDENT_TYPE_DESCRIPTION MAIN_CRIMECODE  \\\n",
       "FROMDATEDAY                                                               \n",
       "2012-07-08 06:00:00     BERPTA      RESIDENTIAL BURGLARY           05RB   \n",
       "2012-07-08 06:03:00     PSHOT         AGGRAVATED ASSAULT           04xx   \n",
       "2012-07-08 06:26:00     ARMROB                   ROBBERY           03xx   \n",
       "2012-07-08 06:56:00     ALARMC       COMMERCIAL BURGLARY           05CB   \n",
       "2012-07-08 07:15:00     ARMROB                   ROBBERY           03xx   \n",
       "\n",
       "                    REPTDISTRICT  REPORTINGAREA                FROMDATE  \\\n",
       "FROMDATEDAY                                                               \n",
       "2012-07-08 06:00:00           D4            629  07/08/2012 06:00:00 AM   \n",
       "2012-07-08 06:03:00           B2            327  07/08/2012 06:03:00 AM   \n",
       "2012-07-08 06:26:00           D4            625  07/08/2012 06:26:00 AM   \n",
       "2012-07-08 06:56:00           B2            258  07/08/2012 06:56:00 AM   \n",
       "2012-07-08 07:15:00          E18            496  07/08/2012 07:15:00 AM   \n",
       "\n",
       "                    WEAPONTYPE Shooting DOMESTIC SHIFT  ...    Month  \\\n",
       "FROMDATEDAY                                             ...            \n",
       "2012-07-08 06:00:00      Other       No       No  Last  ...        7   \n",
       "2012-07-08 06:03:00    Firearm      Yes       No  Last  ...        7   \n",
       "2012-07-08 06:26:00    Firearm       No       No  Last  ...        7   \n",
       "2012-07-08 06:56:00      Other       No       No  Last  ...        7   \n",
       "2012-07-08 07:15:00    Firearm       No       No  Last  ...        7   \n",
       "\n",
       "                     DAY_WEEK            X            Y   STREETNAME  \\\n",
       "FROMDATEDAY                                                            \n",
       "2012-07-08 06:00:00    Sunday  763273.1791  2951498.962  ABERDEEN ST   \n",
       "2012-07-08 06:03:00    Sunday  771223.1638  2940772.099    HOWARD AV   \n",
       "2012-07-08 06:26:00    Sunday  765118.8605  2950217.536    JERSEY ST   \n",
       "2012-07-08 06:56:00    Sunday  773591.8648  2940638.174  COLUMBIA RD   \n",
       "2012-07-08 07:15:00    Sunday  759042.7315  2923832.681   COLLINS ST   \n",
       "\n",
       "                                        Location VIOLENT  DAY  HOUR  COUNT  \n",
       "FROMDATEDAY                                                                 \n",
       "2012-07-08 06:00:00  (42.34638135, -71.10379454)     1.0    8     6      1  \n",
       "2012-07-08 06:03:00  (42.31684135, -71.07458456)     1.0    8     6      1  \n",
       "2012-07-08 06:26:00  (42.34284135, -71.09698955)     1.0    8     6      1  \n",
       "2012-07-08 06:56:00   (42.3164411, -71.06582908)     1.0    8     6      1  \n",
       "2012-07-08 07:15:00  (42.27051636, -71.11989955)     1.0    8     7      1  \n",
       "\n",
       "[5 rows x 21 columns]"
      ]
     },
     "execution_count": 55,
     "metadata": {},
     "output_type": "execute_result"
    }
   ],
   "source": [
    "alldata.head()"
   ]
  },
  {
   "cell_type": "code",
   "execution_count": 56,
   "metadata": {
    "collapsed": true
   },
   "outputs": [],
   "source": [
    "forecast=alldata['COUNT'].resample('M').count()\n",
    "forecastV=alldata['VIOLENT'].resample('M').sum()\n",
    "forecastV=forecastV.astype(int)"
   ]
  },
  {
   "cell_type": "code",
   "execution_count": 57,
   "metadata": {
    "collapsed": true
   },
   "outputs": [],
   "source": [
    "forecast=forecast.drop(forecast.index[0])\n",
    "forecast=forecast.drop(forecast.index[len(forecast)-1])"
   ]
  },
  {
   "cell_type": "code",
   "execution_count": 58,
   "metadata": {
    "collapsed": true
   },
   "outputs": [],
   "source": [
    "forecastV=forecastV.drop(forecastV.index[len(forecastV)-1])\n",
    "forecastV=forecastV.drop(forecastV.index[0])"
   ]
  },
  {
   "cell_type": "markdown",
   "metadata": {},
   "source": [
    "Changed data to show monthly values and dropped first and last rows as they were not full months"
   ]
  },
  {
   "cell_type": "code",
   "execution_count": 59,
   "metadata": {},
   "outputs": [
    {
     "data": {
      "image/png": "[encoded data removed]",
      "text/plain": [
       "<matplotlib.figure.Figure at 0x1573bd68>"
      ]
     },
     "metadata": {},
     "output_type": "display_data"
    }
   ],
   "source": [
    "forecast.plot()\n",
    "plt.show()"
   ]
  },
  {
   "cell_type": "code",
   "execution_count": 60,
   "metadata": {},
   "outputs": [
    {
     "data": {
      "image/png": "[encoded data removed]",
      "text/plain": [
       "<matplotlib.figure.Figure at 0x1571efd0>"
      ]
     },
     "metadata": {},
     "output_type": "display_data"
    }
   ],
   "source": [
    "forecastV.plot()\n",
    "plt.show()"
   ]
  },
  {
   "cell_type": "markdown",
   "metadata": {},
   "source": [
    "Plots show that the data is not stationary but it can be also checked with ADF test.\n",
    "\n",
    "Augmented Dickey-Fuller uses an autoregressive model and optimizes an information criterion across multiple different lag values.\n",
    "\n",
    "Result is interpreted using the p-value from the test. A p-value below a threshold (such as 5% or 1%) suggests we reject the null hypothesis (stationary), otherwise a p-value above the threshold suggests we accept the null hypothesis (non-stationary).\n",
    "\n",
    "- p-value > 0.05: Accept the null hypothesis (H0), the data has a unit root and is non-stationary.\n",
    "- p-value <= 0.05: Reject the null hypothesis (H0), the data does not have a unit root and is stationary."
   ]
  },
  {
   "cell_type": "code",
   "execution_count": 61,
   "metadata": {},
   "outputs": [
    {
     "name": "stdout",
     "output_type": "stream",
     "text": [
      "ADF Statistic: -2.568792\n",
      "p-value: 0.099620\n",
      "Critical Values:\n",
      "\t1%: -3.661\n",
      "\t5%: -2.961\n",
      "\t10%: -2.619\n"
     ]
    }
   ],
   "source": [
    "from statsmodels.tsa.stattools import adfuller\n",
    "\n",
    "X = forecast.values\n",
    "result = adfuller(X)\n",
    "print('ADF Statistic: %f' % result[0])\n",
    "print('p-value: %f' % result[1])\n",
    "print('Critical Values:')\n",
    "for key, value in result[4].items():\n",
    "\tprint('\\t%s: %.3f' % (key, value))"
   ]
  },
  {
   "cell_type": "code",
   "execution_count": 62,
   "metadata": {},
   "outputs": [
    {
     "name": "stdout",
     "output_type": "stream",
     "text": [
      "ADF Statistic: -2.062104\n",
      "p-value: 0.260023\n",
      "Critical Values:\n",
      "\t1%: -3.646\n",
      "\t5%: -2.954\n",
      "\t10%: -2.616\n"
     ]
    }
   ],
   "source": [
    "from statsmodels.tsa.stattools import adfuller\n",
    "\n",
    "XV = forecastV.values\n",
    "result = adfuller(XV)\n",
    "print('ADF Statistic: %f' % result[0])\n",
    "print('p-value: %f' % result[1])\n",
    "print('Critical Values:')\n",
    "for key, value in result[4].items():\n",
    "\tprint('\\t%s: %.3f' % (key, value))"
   ]
  },
  {
   "cell_type": "markdown",
   "metadata": {},
   "source": [
    "In both cases we can't reject null hypothesis as above 5% p-value. The data is non-stationary and needs to be transformed with ARIMA."
   ]
  },
  {
   "cell_type": "code",
   "execution_count": 63,
   "metadata": {
    "collapsed": true
   },
   "outputs": [],
   "source": [
    "from statsmodels.tsa.arima_model import ARIMA\n",
    "from sklearn.metrics import mean_squared_error\n",
    "from math import sqrt"
   ]
  },
  {
   "cell_type": "markdown",
   "metadata": {},
   "source": [
    "## Prediction of crime overall"
   ]
  },
  {
   "cell_type": "code",
   "execution_count": 64,
   "metadata": {
    "collapsed": true
   },
   "outputs": [],
   "source": [
    "forecast=forecast.astype(float)"
   ]
  },
  {
   "cell_type": "code",
   "execution_count": 65,
   "metadata": {
    "collapsed": true
   },
   "outputs": [],
   "source": [
    "X = forecast.values\n",
    "train, test = X[0:-12], X[-12:]"
   ]
  },
  {
   "cell_type": "code",
   "execution_count": 66,
   "metadata": {},
   "outputs": [
    {
     "name": "stdout",
     "output_type": "stream",
     "text": [
      "DatetimeIndex(['2012-08-31', '2012-09-30', '2012-10-31', '2012-11-30',\n",
      "               '2012-12-31', '2013-01-31', '2013-02-28', '2013-03-31',\n",
      "               '2013-04-30', '2013-05-31', '2013-06-30', '2013-07-31',\n",
      "               '2013-08-31', '2013-09-30', '2013-10-31', '2013-11-30',\n",
      "               '2013-12-31', '2014-01-31', '2014-02-28', '2014-03-31',\n",
      "               '2014-04-30', '2014-05-31', '2014-06-30', '2014-07-31',\n",
      "               '2014-08-31', '2014-09-30', '2014-10-31', '2014-11-30',\n",
      "               '2014-12-31', '2015-01-31', '2015-02-28', '2015-03-31',\n",
      "               '2015-04-30', '2015-05-31'],\n",
      "              dtype='datetime64[ns]', name='FROMDATEDAY', freq='M')\n"
     ]
    }
   ],
   "source": [
    "print(forecast.index)"
   ]
  },
  {
   "cell_type": "code",
   "execution_count": 67,
   "metadata": {},
   "outputs": [
    {
     "name": "stdout",
     "output_type": "stream",
     "text": [
      "DatetimeIndex(['2012-08-01', '2012-09-01', '2012-10-01', '2012-11-01',\n",
      "               '2012-12-01', '2013-01-01', '2013-02-01', '2013-03-01',\n",
      "               '2013-04-01', '2013-05-01', '2013-06-01', '2013-07-01',\n",
      "               '2013-08-01', '2013-09-01', '2013-10-01', '2013-11-01',\n",
      "               '2013-12-01', '2014-01-01', '2014-02-01', '2014-03-01',\n",
      "               '2014-04-01', '2014-05-01'],\n",
      "              dtype='datetime64[ns]', freq='MS')\n",
      "DatetimeIndex(['2014-06-01', '2014-07-01', '2014-08-01', '2014-09-01',\n",
      "               '2014-10-01', '2014-11-01', '2014-12-01', '2015-01-01',\n",
      "               '2015-02-01', '2015-03-01', '2015-04-01', '2015-05-01'],\n",
      "              dtype='datetime64[ns]', freq='MS')\n"
     ]
    }
   ],
   "source": [
    "rng1 = pd.date_range('2012-07-31', periods=len(X)-12, freq='M').shift(1, freq=pd.datetools.day)\n",
    "rng2 =pd.date_range('2014-05-30', periods=12, freq='M').shift(1, freq=pd.datetools.day)\n",
    "print(rng1)\n",
    "print(rng2)"
   ]
  },
  {
   "cell_type": "code",
   "execution_count": 68,
   "metadata": {
    "collapsed": true
   },
   "outputs": [],
   "source": [
    "trainS=pd.Series(train, index=rng1)\n",
    "testS=pd.Series(test,index=rng2)"
   ]
  },
  {
   "cell_type": "code",
   "execution_count": 69,
   "metadata": {},
   "outputs": [
    {
     "data": {
      "image/png": "[encoded data removed]",
      "text/plain": [
       "<matplotlib.figure.Figure at 0xc7b6d30>"
      ]
     },
     "metadata": {},
     "output_type": "display_data"
    }
   ],
   "source": [
    "plt.figure(figsize=(10,6));\n",
    "trainS.plot()\n",
    "testS.plot()\n",
    "plt.show()"
   ]
  },
  {
   "cell_type": "markdown",
   "metadata": {},
   "source": [
    "## ARIMA parameters cross validation"
   ]
  },
  {
   "cell_type": "code",
   "execution_count": 70,
   "metadata": {
    "collapsed": true
   },
   "outputs": [],
   "source": [
    "# evaluate an ARIMA model for a given order (p,d,q)\n",
    "def evaluate_arima_model(X, arima_order):\n",
    "    # prepare training dataset\n",
    "    train_size = int(len(X) * 0.66)\n",
    "    train, test = X[0:train_size], X[train_size:]\n",
    "    history = [x for x in train]\n",
    "    # make predictions\n",
    "    predictions = list()\n",
    "    for t in range(len(test)):\n",
    "        model = ARIMA(history, order=arima_order)\n",
    "        model_fit = model.fit(disp=0)\n",
    "        yhat = model_fit.forecast()[0]\n",
    "        predictions.append(yhat)\n",
    "        history.append(test[t])\n",
    "    # calculate out of sample error\n",
    "    error = mean_squared_error(test, predictions)\n",
    "    return error"
   ]
  },
  {
   "cell_type": "code",
   "execution_count": 71,
   "metadata": {
    "collapsed": true
   },
   "outputs": [],
   "source": [
    "import warnings\n",
    "warnings.filterwarnings(\"ignore\")"
   ]
  },
  {
   "cell_type": "code",
   "execution_count": 72,
   "metadata": {
    "collapsed": true
   },
   "outputs": [],
   "source": [
    "# evaluate combinations of p, d and q values for an ARIMA model\n",
    "def evaluate_models(dataset, p_values, d_values, q_values):\n",
    "    dataset = dataset.astype('float32')\n",
    "    best_score, best_cfg = float(\"inf\"), None\n",
    "    for p in p_values:\n",
    "        for d in d_values:\n",
    "            for q in q_values:\n",
    "                order = (p,d,q)\n",
    "                try:\n",
    "                    mse = evaluate_arima_model(dataset, order)\n",
    "                    if mse < best_score:\n",
    "                        best_score, best_cfg = mse, order\n",
    "                    print('ARIMA%s MSE=%.3f' % (order,mse))\n",
    "                except:\n",
    "                    continue\n",
    "    print('Best ARIMA%s MSE=%.3f' % (best_cfg, best_score))"
   ]
  },
  {
   "cell_type": "code",
   "execution_count": 73,
   "metadata": {},
   "outputs": [
    {
     "name": "stdout",
     "output_type": "stream",
     "text": [
      "ARIMA(0, 0, 0) MSE=1005455.464\n",
      "ARIMA(0, 0, 1) MSE=591258.895\n",
      "ARIMA(0, 0, 2) MSE=332932.411\n",
      "ARIMA(0, 1, 0) MSE=208729.254\n",
      "ARIMA(0, 1, 1) MSE=224702.400\n",
      "ARIMA(0, 1, 2) MSE=324836.954\n",
      "ARIMA(0, 2, 0) MSE=545900.936\n",
      "ARIMA(0, 2, 1) MSE=268821.510\n",
      "ARIMA(1, 0, 0) MSE=307706.266\n",
      "ARIMA(1, 1, 0) MSE=234965.510\n",
      "ARIMA(1, 1, 1) MSE=229884.579\n",
      "ARIMA(1, 2, 0) MSE=308235.603\n",
      "ARIMA(1, 2, 1) MSE=350110.988\n",
      "ARIMA(2, 0, 0) MSE=307808.214\n",
      "ARIMA(2, 1, 0) MSE=221118.214\n",
      "ARIMA(2, 1, 1) MSE=225197.644\n",
      "ARIMA(2, 2, 0) MSE=344054.875\n",
      "ARIMA(2, 2, 1) MSE=367225.967\n",
      "ARIMA(4, 0, 0) MSE=282863.201\n",
      "ARIMA(4, 1, 0) MSE=196071.264\n",
      "ARIMA(4, 2, 0) MSE=418832.083\n",
      "ARIMA(6, 1, 0) MSE=356562.817\n",
      "ARIMA(6, 2, 0) MSE=466971.289\n",
      "Best ARIMA(4, 1, 0) MSE=196071.264\n"
     ]
    }
   ],
   "source": [
    "# evaluate parameters\n",
    "p_values = [0, 1, 2, 4, 6, 8, 10]\n",
    "d_values = range(0, 3)\n",
    "q_values = range(0, 3)\n",
    "warnings.filterwarnings(\"ignore\")\n",
    "evaluate_models(forecast.values, p_values, d_values, q_values)"
   ]
  },
  {
   "cell_type": "markdown",
   "metadata": {},
   "source": [
    "## Prediction using best parameters"
   ]
  },
  {
   "cell_type": "code",
   "execution_count": 74,
   "metadata": {},
   "outputs": [
    {
     "name": "stdout",
     "output_type": "stream",
     "text": [
      "Test RMSE: 442.794\n"
     ]
    },
    {
     "data": {
      "image/png": "[encoded data removed]",
      "text/plain": [
       "<matplotlib.figure.Figure at 0xbf98e10>"
      ]
     },
     "metadata": {},
     "output_type": "display_data"
    }
   ],
   "source": [
    "history = [x for x in train]\n",
    "predictions = list()\n",
    "# walk-forward validation\n",
    "for t in range(len(test)):\n",
    "    # fit model\n",
    "    model = ARIMA(history, order=(4,1,0))\n",
    "    model_fit = model.fit()\n",
    "    # one step forecast\n",
    "    yhat = model_fit.forecast()[0]\n",
    "    # store forecast and ob\n",
    "    predictions.append(yhat)\n",
    "    history.append(test[t])\n",
    "# evaluate forecasts\n",
    "rmse = sqrt(mean_squared_error(test, predictions))\n",
    "print('Test RMSE: %.3f' % rmse)\n",
    "# plot forecasts against actual outcomes\n",
    "plt.plot(test)\n",
    "plt.plot(predictions, color='red')\n",
    "plt.show()"
   ]
  },
  {
   "cell_type": "code",
   "execution_count": 75,
   "metadata": {},
   "outputs": [
    {
     "data": {
      "image/png": "[encoded data removed]",
      "text/plain": [
       "<matplotlib.figure.Figure at 0xaf7a400>"
      ]
     },
     "metadata": {},
     "output_type": "display_data"
    }
   ],
   "source": [
    "pre=pd.Series(np.stack(predictions,1)[0], index=testS.index)\n",
    "\n",
    "plt.figure(figsize=(10,6));\n",
    "trainS.plot()\n",
    "testS.plot()\n",
    "pre.plot()\n",
    "plt.show()"
   ]
  },
  {
   "cell_type": "code",
   "execution_count": 76,
   "metadata": {},
   "outputs": [
    {
     "data": {
      "text/plain": [
       "[array([ 7920.66530153]),\n",
       " array([ 7951.92844769]),\n",
       " array([ 7423.58729897]),\n",
       " array([ 7313.76676257]),\n",
       " array([ 7546.51133627]),\n",
       " array([ 7582.36574104]),\n",
       " array([ 6988.48501968]),\n",
       " array([ 6127.95383619]),\n",
       " array([ 5519.1763724]),\n",
       " array([ 5053.90141459]),\n",
       " array([ 5508.16596372]),\n",
       " array([ 5906.18835247])]"
      ]
     },
     "execution_count": 76,
     "metadata": {},
     "output_type": "execute_result"
    }
   ],
   "source": [
    "predictions"
   ]
  },
  {
   "cell_type": "markdown",
   "metadata": {},
   "source": [
    "## Prediction of violent crime"
   ]
  },
  {
   "cell_type": "code",
   "execution_count": 77,
   "metadata": {
    "collapsed": true
   },
   "outputs": [],
   "source": [
    "forecastV=forecastV.astype(float)\n",
    "X = forecastV.values\n",
    "train, test = X[0:-12], X[-12:]                         "
   ]
  },
  {
   "cell_type": "code",
   "execution_count": 78,
   "metadata": {},
   "outputs": [
    {
     "name": "stdout",
     "output_type": "stream",
     "text": [
      "DatetimeIndex(['2012-08-31', '2012-09-30', '2012-10-31', '2012-11-30',\n",
      "               '2012-12-31', '2013-01-31', '2013-02-28', '2013-03-31',\n",
      "               '2013-04-30', '2013-05-31', '2013-06-30', '2013-07-31',\n",
      "               '2013-08-31', '2013-09-30', '2013-10-31', '2013-11-30',\n",
      "               '2013-12-31', '2014-01-31', '2014-02-28', '2014-03-31',\n",
      "               '2014-04-30', '2014-05-31', '2014-06-30', '2014-07-31',\n",
      "               '2014-08-31', '2014-09-30', '2014-10-31', '2014-11-30',\n",
      "               '2014-12-31', '2015-01-31', '2015-02-28', '2015-03-31',\n",
      "               '2015-04-30', '2015-05-31'],\n",
      "              dtype='datetime64[ns]', name='FROMDATEDAY', freq='M')\n",
      "DatetimeIndex(['2012-08-01', '2012-09-01', '2012-10-01', '2012-11-01',\n",
      "               '2012-12-01', '2013-01-01', '2013-02-01', '2013-03-01',\n",
      "               '2013-04-01', '2013-05-01', '2013-06-01', '2013-07-01',\n",
      "               '2013-08-01', '2013-09-01', '2013-10-01', '2013-11-01',\n",
      "               '2013-12-01', '2014-01-01', '2014-02-01', '2014-03-01',\n",
      "               '2014-04-01', '2014-05-01'],\n",
      "              dtype='datetime64[ns]', freq='MS')\n",
      "DatetimeIndex(['2014-06-01', '2014-07-01', '2014-08-01', '2014-09-01',\n",
      "               '2014-10-01', '2014-11-01', '2014-12-01', '2015-01-01',\n",
      "               '2015-02-01', '2015-03-01', '2015-04-01', '2015-05-01'],\n",
      "              dtype='datetime64[ns]', freq='MS')\n"
     ]
    }
   ],
   "source": [
    "print(forecast.index)\n",
    "rng1 = pd.date_range('2012-07-31', periods=len(X)-12, freq='M').shift(1, freq=pd.datetools.day)\n",
    "rng2 =pd.date_range('2014-05-30', periods=12, freq='M').shift(1, freq=pd.datetools.day)\n",
    "print(rng1)\n",
    "print(rng2)"
   ]
  },
  {
   "cell_type": "code",
   "execution_count": 79,
   "metadata": {
    "collapsed": true
   },
   "outputs": [],
   "source": [
    "trainS=pd.Series(train, index=rng1)\n",
    "testS=pd.Series(test,index=rng2)"
   ]
  },
  {
   "cell_type": "code",
   "execution_count": 80,
   "metadata": {},
   "outputs": [
    {
     "data": {
      "image/png": "[encoded data removed]",
      "text/plain": [
       "<matplotlib.figure.Figure at 0xc08b208>"
      ]
     },
     "metadata": {},
     "output_type": "display_data"
    }
   ],
   "source": [
    "plt.figure(figsize=(10,6));\n",
    "trainS.plot()\n",
    "testS.plot()\n",
    "plt.show()"
   ]
  },
  {
   "cell_type": "markdown",
   "metadata": {},
   "source": [
    "## Prediction of violent crime"
   ]
  },
  {
   "cell_type": "code",
   "execution_count": 81,
   "metadata": {},
   "outputs": [
    {
     "name": "stdout",
     "output_type": "stream",
     "text": [
      "Test RMSE: 151.645\n"
     ]
    },
    {
     "data": {
      "image/png": "[encoded data removed]",
      "text/plain": [
       "<matplotlib.figure.Figure at 0xc0bf3c8>"
      ]
     },
     "metadata": {},
     "output_type": "display_data"
    }
   ],
   "source": [
    "history = [x for x in train]\n",
    "predictions = list()\n",
    "# walk-forward validation\n",
    "for t in range(len(test)):\n",
    "    # fit model\n",
    "    model = ARIMA(history, order=(4,1,0))\n",
    "    model_fit = model.fit()\n",
    "    # one step forecast\n",
    "    yhat = model_fit.forecast()[0]\n",
    "    # store forecast and ob\n",
    "    predictions.append(yhat)\n",
    "    history.append(test[t])\n",
    "# evaluate forecasts\n",
    "rmse = sqrt(mean_squared_error(test, predictions))\n",
    "print('Test RMSE: %.3f' % rmse)\n",
    "# plot forecasts against actual outcomes\n",
    "plt.plot(test)\n",
    "plt.plot(predictions, color='red')\n",
    "plt.show()"
   ]
  },
  {
   "cell_type": "code",
   "execution_count": 82,
   "metadata": {},
   "outputs": [
    {
     "data": {
      "image/png": "[encoded data removed]",
      "text/plain": [
       "<matplotlib.figure.Figure at 0xc0a5ac8>"
      ]
     },
     "metadata": {},
     "output_type": "display_data"
    }
   ],
   "source": [
    "pre=pd.Series(np.stack(predictions,1)[0], index=testS.index)\n",
    "\n",
    "plt.figure(figsize=(10,6));\n",
    "trainS.plot()\n",
    "testS.plot()\n",
    "pre.plot()\n",
    "plt.show()"
   ]
  },
  {
   "cell_type": "code",
   "execution_count": 83,
   "metadata": {},
   "outputs": [
    {
     "data": {
      "text/plain": [
       "[array([ 1725.48965384]),\n",
       " array([ 1846.1414135]),\n",
       " array([ 1873.38880096]),\n",
       " array([ 1701.24960472]),\n",
       " array([ 1668.61096543]),\n",
       " array([ 1680.98032837]),\n",
       " array([ 1525.30011557]),\n",
       " array([ 1415.17397542]),\n",
       " array([ 1124.87191738]),\n",
       " array([ 1112.29255266]),\n",
       " array([ 1290.04763778]),\n",
       " array([ 1214.76529613])]"
      ]
     },
     "execution_count": 83,
     "metadata": {},
     "output_type": "execute_result"
    }
   ],
   "source": [
    "predictions"
   ]
  }
 ],
 "metadata": {
  "kernelspec": {
   "display_name": "Python 3",
   "language": "python",
   "name": "python3"
  },
  "language_info": {
   "codemirror_mode": {
    "name": "ipython",
    "version": 3
   },
   "file_extension": ".py",
   "mimetype": "text/x-python",
   "name": "python",
   "nbconvert_exporter": "python",
   "pygments_lexer": "ipython3",
   "version": "3.6.1"
  }
 },
 "nbformat": 4,
 "nbformat_minor": 2
}
