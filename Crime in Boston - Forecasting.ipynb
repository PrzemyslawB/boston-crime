{
 "cells": [
  {
   "cell_type": "markdown",
   "metadata": {},
   "source": [
    "## The goal is to create a forecast of crimes per day with Prophet algorithm"
   ]
  },
  {
   "cell_type": "code",
   "execution_count": 68,
   "metadata": {
    "collapsed": true
   },
   "outputs": [],
   "source": [
    "import pandas as pd\n",
    "import numpy as np\n",
    "import matplotlib.pyplot as plt\n",
    "import warnings\n",
    "warnings.filterwarnings('ignore')\n",
    "%matplotlib inline"
   ]
  },
  {
   "cell_type": "code",
   "execution_count": 69,
   "metadata": {
    "collapsed": true
   },
   "outputs": [],
   "source": [
    "alldata=pd.read_csv('full.csv')"
   ]
  },
  {
   "cell_type": "code",
   "execution_count": 70,
   "metadata": {
    "collapsed": false
   },
   "outputs": [
    {
     "data": {
      "text/html": [
       "<div>\n",
       "<table border=\"1\" class=\"dataframe\">\n",
       "  <thead>\n",
       "    <tr style=\"text-align: right;\">\n",
       "      <th></th>\n",
       "      <th>COMPNOS</th>\n",
       "      <th>NatureCode</th>\n",
       "      <th>INCIDENT_TYPE_DESCRIPTION</th>\n",
       "      <th>MAIN_CRIMECODE</th>\n",
       "      <th>REPTDISTRICT</th>\n",
       "      <th>REPORTINGAREA</th>\n",
       "      <th>FROMDATE</th>\n",
       "      <th>WEAPONTYPE</th>\n",
       "      <th>Shooting</th>\n",
       "      <th>DOMESTIC</th>\n",
       "      <th>SHIFT</th>\n",
       "      <th>Year</th>\n",
       "      <th>Month</th>\n",
       "      <th>DAY_WEEK</th>\n",
       "      <th>UCRPART</th>\n",
       "      <th>X</th>\n",
       "      <th>Y</th>\n",
       "      <th>STREETNAME</th>\n",
       "      <th>XSTREETNAME</th>\n",
       "      <th>Location</th>\n",
       "    </tr>\n",
       "  </thead>\n",
       "  <tbody>\n",
       "    <tr>\n",
       "      <th>0</th>\n",
       "      <td>120420285.0</td>\n",
       "      <td>BERPTA</td>\n",
       "      <td>RESIDENTIAL BURGLARY</td>\n",
       "      <td>05RB</td>\n",
       "      <td>D4</td>\n",
       "      <td>629</td>\n",
       "      <td>07/08/2012 06:00:00 AM</td>\n",
       "      <td>Other</td>\n",
       "      <td>No</td>\n",
       "      <td>No</td>\n",
       "      <td>Last</td>\n",
       "      <td>2012</td>\n",
       "      <td>7</td>\n",
       "      <td>Sunday</td>\n",
       "      <td>Part One</td>\n",
       "      <td>763273.1791</td>\n",
       "      <td>2951498.962</td>\n",
       "      <td>ABERDEEN ST</td>\n",
       "      <td>NaN</td>\n",
       "      <td>(42.34638135, -71.10379454)</td>\n",
       "    </tr>\n",
       "    <tr>\n",
       "      <th>1</th>\n",
       "      <td>120419202.0</td>\n",
       "      <td>PSHOT</td>\n",
       "      <td>AGGRAVATED ASSAULT</td>\n",
       "      <td>04xx</td>\n",
       "      <td>B2</td>\n",
       "      <td>327</td>\n",
       "      <td>07/08/2012 06:03:00 AM</td>\n",
       "      <td>Firearm</td>\n",
       "      <td>Yes</td>\n",
       "      <td>No</td>\n",
       "      <td>Last</td>\n",
       "      <td>2012</td>\n",
       "      <td>7</td>\n",
       "      <td>Sunday</td>\n",
       "      <td>Part One</td>\n",
       "      <td>771223.1638</td>\n",
       "      <td>2940772.099</td>\n",
       "      <td>HOWARD AV</td>\n",
       "      <td>NaN</td>\n",
       "      <td>(42.31684135, -71.07458456)</td>\n",
       "    </tr>\n",
       "    <tr>\n",
       "      <th>2</th>\n",
       "      <td>120419213.0</td>\n",
       "      <td>ARMROB</td>\n",
       "      <td>ROBBERY</td>\n",
       "      <td>03xx</td>\n",
       "      <td>D4</td>\n",
       "      <td>625</td>\n",
       "      <td>07/08/2012 06:26:00 AM</td>\n",
       "      <td>Firearm</td>\n",
       "      <td>No</td>\n",
       "      <td>No</td>\n",
       "      <td>Last</td>\n",
       "      <td>2012</td>\n",
       "      <td>7</td>\n",
       "      <td>Sunday</td>\n",
       "      <td>Part One</td>\n",
       "      <td>765118.8605</td>\n",
       "      <td>2950217.536</td>\n",
       "      <td>JERSEY ST</td>\n",
       "      <td>QUEENSBERRY ST</td>\n",
       "      <td>(42.34284135, -71.09698955)</td>\n",
       "    </tr>\n",
       "    <tr>\n",
       "      <th>3</th>\n",
       "      <td>120419223.0</td>\n",
       "      <td>ALARMC</td>\n",
       "      <td>COMMERCIAL BURGLARY</td>\n",
       "      <td>05CB</td>\n",
       "      <td>B2</td>\n",
       "      <td>258</td>\n",
       "      <td>07/08/2012 06:56:00 AM</td>\n",
       "      <td>Other</td>\n",
       "      <td>No</td>\n",
       "      <td>No</td>\n",
       "      <td>Last</td>\n",
       "      <td>2012</td>\n",
       "      <td>7</td>\n",
       "      <td>Sunday</td>\n",
       "      <td>Part One</td>\n",
       "      <td>773591.8648</td>\n",
       "      <td>2940638.174</td>\n",
       "      <td>COLUMBIA RD</td>\n",
       "      <td>NaN</td>\n",
       "      <td>(42.3164411, -71.06582908)</td>\n",
       "    </tr>\n",
       "    <tr>\n",
       "      <th>4</th>\n",
       "      <td>120419236.0</td>\n",
       "      <td>ARMROB</td>\n",
       "      <td>ROBBERY</td>\n",
       "      <td>03xx</td>\n",
       "      <td>E18</td>\n",
       "      <td>496</td>\n",
       "      <td>07/08/2012 07:15:00 AM</td>\n",
       "      <td>Firearm</td>\n",
       "      <td>No</td>\n",
       "      <td>No</td>\n",
       "      <td>Last</td>\n",
       "      <td>2012</td>\n",
       "      <td>7</td>\n",
       "      <td>Sunday</td>\n",
       "      <td>Part One</td>\n",
       "      <td>759042.7315</td>\n",
       "      <td>2923832.681</td>\n",
       "      <td>COLLINS ST</td>\n",
       "      <td>NaN</td>\n",
       "      <td>(42.27051636, -71.11989955)</td>\n",
       "    </tr>\n",
       "  </tbody>\n",
       "</table>\n",
       "</div>"
      ],
      "text/plain": [
       "       COMPNOS NatureCode INCIDENT_TYPE_DESCRIPTION MAIN_CRIMECODE  \\\n",
       "0  120420285.0     BERPTA      RESIDENTIAL BURGLARY           05RB   \n",
       "1  120419202.0     PSHOT         AGGRAVATED ASSAULT           04xx   \n",
       "2  120419213.0     ARMROB                   ROBBERY           03xx   \n",
       "3  120419223.0     ALARMC       COMMERCIAL BURGLARY           05CB   \n",
       "4  120419236.0     ARMROB                   ROBBERY           03xx   \n",
       "\n",
       "  REPTDISTRICT  REPORTINGAREA                FROMDATE WEAPONTYPE Shooting  \\\n",
       "0           D4            629  07/08/2012 06:00:00 AM      Other       No   \n",
       "1           B2            327  07/08/2012 06:03:00 AM    Firearm      Yes   \n",
       "2           D4            625  07/08/2012 06:26:00 AM    Firearm       No   \n",
       "3           B2            258  07/08/2012 06:56:00 AM      Other       No   \n",
       "4          E18            496  07/08/2012 07:15:00 AM    Firearm       No   \n",
       "\n",
       "  DOMESTIC SHIFT  Year  Month DAY_WEEK   UCRPART            X            Y  \\\n",
       "0       No  Last  2012      7   Sunday  Part One  763273.1791  2951498.962   \n",
       "1       No  Last  2012      7   Sunday  Part One  771223.1638  2940772.099   \n",
       "2       No  Last  2012      7   Sunday  Part One  765118.8605  2950217.536   \n",
       "3       No  Last  2012      7   Sunday  Part One  773591.8648  2940638.174   \n",
       "4       No  Last  2012      7   Sunday  Part One  759042.7315  2923832.681   \n",
       "\n",
       "    STREETNAME     XSTREETNAME                     Location  \n",
       "0  ABERDEEN ST             NaN  (42.34638135, -71.10379454)  \n",
       "1    HOWARD AV             NaN  (42.31684135, -71.07458456)  \n",
       "2    JERSEY ST  QUEENSBERRY ST  (42.34284135, -71.09698955)  \n",
       "3  COLUMBIA RD             NaN   (42.3164411, -71.06582908)  \n",
       "4   COLLINS ST             NaN  (42.27051636, -71.11989955)  "
      ]
     },
     "execution_count": 70,
     "metadata": {},
     "output_type": "execute_result"
    }
   ],
   "source": [
    "alldata.head()"
   ]
  },
  {
   "cell_type": "code",
   "execution_count": 71,
   "metadata": {
    "collapsed": false
   },
   "outputs": [
    {
     "data": {
      "text/plain": [
       "(268056, 20)"
      ]
     },
     "execution_count": 71,
     "metadata": {},
     "output_type": "execute_result"
    }
   ],
   "source": [
    "alldata.shape"
   ]
  },
  {
   "cell_type": "code",
   "execution_count": 72,
   "metadata": {
    "collapsed": false
   },
   "outputs": [
    {
     "name": "stdout",
     "output_type": "stream",
     "text": [
      "<class 'pandas.core.frame.DataFrame'>\n",
      "RangeIndex: 268056 entries, 0 to 268055\n",
      "Data columns (total 20 columns):\n",
      "COMPNOS                      255797 non-null float64\n",
      "NatureCode                   266391 non-null object\n",
      "INCIDENT_TYPE_DESCRIPTION    268056 non-null object\n",
      "MAIN_CRIMECODE               268056 non-null object\n",
      "REPTDISTRICT                 267699 non-null object\n",
      "REPORTINGAREA                268056 non-null int64\n",
      "FROMDATE                     268056 non-null object\n",
      "WEAPONTYPE                   268056 non-null object\n",
      "Shooting                     268056 non-null object\n",
      "DOMESTIC                     268056 non-null object\n",
      "SHIFT                        255791 non-null object\n",
      "Year                         268056 non-null int64\n",
      "Month                        268056 non-null int64\n",
      "DAY_WEEK                     268056 non-null object\n",
      "UCRPART                      268056 non-null object\n",
      "X                            253075 non-null float64\n",
      "Y                            253075 non-null float64\n",
      "STREETNAME                   267822 non-null object\n",
      "XSTREETNAME                  48682 non-null object\n",
      "Location                     268056 non-null object\n",
      "dtypes: float64(3), int64(3), object(14)\n",
      "memory usage: 40.9+ MB\n"
     ]
    }
   ],
   "source": [
    "alldata.info()"
   ]
  },
  {
   "cell_type": "markdown",
   "metadata": {},
   "source": [
    "Drop COMPNOS and UCRPART as these are internal BDP report number, not useful for analysis. Dropping XSTREETNAME as it has way to many missing data and is not crucial for analysis."
   ]
  },
  {
   "cell_type": "code",
   "execution_count": 73,
   "metadata": {
    "collapsed": true
   },
   "outputs": [],
   "source": [
    "alldata=alldata.drop(['COMPNOS','XSTREETNAME','UCRPART'],axis=1)"
   ]
  },
  {
   "cell_type": "markdown",
   "metadata": {},
   "source": [
    "Dropping all rows with missing values, there is still over 240k rows left, all of them with full data. Through this operation over 24k rows are deleted, which is a little over 9% of data I began with."
   ]
  },
  {
   "cell_type": "code",
   "execution_count": 74,
   "metadata": {
    "collapsed": false
   },
   "outputs": [
    {
     "data": {
      "text/plain": [
       "(243547, 17)"
      ]
     },
     "execution_count": 74,
     "metadata": {},
     "output_type": "execute_result"
    }
   ],
   "source": [
    "alldata=alldata.dropna()\n",
    "alldata.shape"
   ]
  },
  {
   "cell_type": "code",
   "execution_count": 75,
   "metadata": {
    "collapsed": false
   },
   "outputs": [
    {
     "data": {
      "text/plain": [
       "array(['RESIDENTIAL BURGLARY', 'AGGRAVATED ASSAULT', 'ROBBERY',\n",
       "       'COMMERCIAL BURGLARY', 'SIMPLE ASSAULT', 'MedAssist', 'BENoProp',\n",
       "       'VAL', 'FRAUD', 'PropFound', 'InvPer', 'TOWED', 'WEAPONS CHARGE',\n",
       "       'InvProp', 'DRUG CHARGES', 'PersLoc', 'PropLost', 'OTHER LARCENY',\n",
       "       'AUTO THEFT', 'Arrest', 'VANDALISM', 'MVAcc',\n",
       "       'CRIMES AGAINST CHILDREN', 'PhoneCalls',\n",
       "       'LARCENY FROM MOTOR VEHICLE', 'FIRE', 'Ballist', 'PubDrink',\n",
       "       'Argue', 'Restrain', 'Gather', 'Service', 'SkipFare', 'SearchWarr',\n",
       "       '32GUN', 'Harass', 'EMBEZELLMENT', 'OTHER', 'PRISON', 'FORGERY',\n",
       "       'PersMiss', 'DEATH INVESTIGATION', 'LICViol', 'Landlord',\n",
       "       'Hazardous', 'Plates', '07RV', 'PropDam', 'SexReg', 'HOMICIDE',\n",
       "       'OPERATING UNDER INFLUENCE', 'STOLEN PROPERTY CHARGES', 'Runaway',\n",
       "       'DISORDERLY', 'HateCrim', 'PROSTITUTION CHARGES', 'TRESPASS',\n",
       "       'ARSON', 'BurgTools', 'Explos', 'VIOLATION OF LIQUOR LAWS',\n",
       "       'Harbor', 'InvVeh', 'Bomb', 'Aircraft', 'Labor', 'Manslaug',\n",
       "       'GAMBLING OFFENSE', 'BioThreat'], dtype=object)"
      ]
     },
     "execution_count": 75,
     "metadata": {},
     "output_type": "execute_result"
    }
   ],
   "source": [
    "alldata['INCIDENT_TYPE_DESCRIPTION'].unique()"
   ]
  },
  {
   "cell_type": "code",
   "execution_count": 76,
   "metadata": {
    "collapsed": false
   },
   "outputs": [
    {
     "data": {
      "text/plain": [
       "array(['D4', 'B2', 'E18', 'C11', 'A1', 'D14', 'C6', 'E13', 'B3', 'A7',\n",
       "       'A15', 'E5'], dtype=object)"
      ]
     },
     "execution_count": 76,
     "metadata": {},
     "output_type": "execute_result"
    }
   ],
   "source": [
    "alldata['REPTDISTRICT'].unique()"
   ]
  },
  {
   "cell_type": "markdown",
   "metadata": {},
   "source": [
    "All Boston PD districts are represented according to http://bpdnews.com/districts/"
   ]
  },
  {
   "cell_type": "code",
   "execution_count": 77,
   "metadata": {
    "collapsed": false
   },
   "outputs": [
    {
     "data": {
      "text/plain": [
       "array(['Other', 'Firearm', 'Unarmed', 'Knife'], dtype=object)"
      ]
     },
     "execution_count": 77,
     "metadata": {},
     "output_type": "execute_result"
    }
   ],
   "source": [
    "alldata['WEAPONTYPE'].unique()"
   ]
  },
  {
   "cell_type": "code",
   "execution_count": 78,
   "metadata": {
    "collapsed": false
   },
   "outputs": [
    {
     "data": {
      "text/plain": [
       "array(['Last', 'Day', 'First'], dtype=object)"
      ]
     },
     "execution_count": 78,
     "metadata": {},
     "output_type": "execute_result"
    }
   ],
   "source": [
    "alldata['SHIFT'].unique()"
   ]
  },
  {
   "cell_type": "code",
   "execution_count": 79,
   "metadata": {
    "collapsed": false
   },
   "outputs": [
    {
     "data": {
      "text/plain": [
       "array(['BERPTA', 'PSHOT ', 'ARMROB', 'ALARMC', 'SHOT  ', 'THREAT',\n",
       "       'REQP  ', 'ALARMI', 'BEIP  ', 'IVMV  ', 'LARCRT', 'FDPROP',\n",
       "       'ILLPRK', 'INVEST', 'INJOFF', 'INVCHD', 'IVDRUG', 'ARREST',\n",
       "       'MVANO ', 'ABRPT ', 'BERPT ', 'MISPER', 'UNK   ', 'LSTPRP',\n",
       "       'STOLMV', 'BURN1 ', 'IVPER ', 'VANRPT', 'FIGHT ', 'PDRPT ',\n",
       "       'IVPREM', 'BEMVRT', 'DVIP  ', 'FIRE  ', 'OVRDOS', 'ABIP  ',\n",
       "       'DOGRPT', 'CD99  ', 'NIDV  ', 'HARPT ', 'PERGUN', 'ALARMH',\n",
       "       'MVPED1', 'HITRUN', 'STOLEN', 'VIORDR', 'MISCRP', 'MVPED2',\n",
       "       'UNCONS', 'EDP2  ', 'CARST ', 'HOMINV', 'CD9   ', 'PKNIFE',\n",
       "       'SHOTS ', 'MEET  ', 'MISC  ', 'ABDWRP', 'DISTRB', 'VANIP ',\n",
       "       'ASTEMS', 'TSTOP ', 'MVA   ', 'TRANSP', 'CD11  ', 'LARCIP',\n",
       "       'MVAINJ', 'SHPLFT', 'FIREB ', 'TRAUMA', 'SDNDTH', 'CD35  ',\n",
       "       'IVLIC ', 'ROBRPT', 'ROBIP ', 'TRACK ', 'FDWEAP', 'CD19  ',\n",
       "       'SSTOP ', 'ALARMX', 'ABDWIP', 'MVBLDR', 'STAB  ', 'MVARPT',\n",
       "       'CRIP  ', 'TRESPS', 'MVACC ', 'AOD   ', 'MSNCOM', 'FDCHLD',\n",
       "       'ALARMR', 'SUSPER', 'GANG  ', 'SEXOFF', 'DOGBIT', 'PRSCRM',\n",
       "       'FV    ', 'CD15  ', 'BOMBT ', 'LANTEN', 'ALARMM', 'REQEP ',\n",
       "       'CARBLK', 'CURFEW', 'ALARMP', 'SCHALM', 'TRFFIC', 'DROWN ',\n",
       "       'CARJAK', 'CD5   ', 'STNING', 'LMUSIC', 'RECMV ', 'HAZ   ',\n",
       "       'ALARM ', 'CD19IV', 'CD7   ', 'REMOVE', 'REQPE ', 'ASSTPO',\n",
       "       'DKDIST', 'PARTY ', 'MVADD ', 'RECMVO', 'ASLTIP', 'ALARMV',\n",
       "       'ABANRE', 'CHOKE ', 'DWNPWR', 'CD16  ', 'CHDABU', 'VIOMVL',\n",
       "       'CD19RA', 'REQFP ', 'CD14  ', 'COLB  ', 'HITOBJ', 'ABANMV',\n",
       "       'REQPF ', 'DMV   ', 'CONFPR', 'HAZMT2', 'EMSMVA', 'PANHAN',\n",
       "       'LCKOUT', 'ALARMB', 'PROTES', 'LOCK  ', 'RECMVI', 'INJRPT',\n",
       "       'MVINV ', 'PRWLER', 'JUMPER', 'BOMB  ', 'SUSLET', 'DK    ',\n",
       "       'CD24  ', 'INJAML', 'ALERT2', 'LARCEN', 'EXHEM1', 'ENVADM',\n",
       "       'VICDOG', 'NOISE ', 'CLOSE ', 'PROSTI', 'RAPEIP', 'IVPER', 'HAZMAT',\n",
       "       'CRASH ', 'PRIOR ', 'OT    ', 'STALK ', 'KIDNAP', 'ABANBU',\n",
       "       'RAPRPT', 'HAZARD', 'HLDPRI', 'TRAUMX', 'CD303 ', 'CD1   ',\n",
       "       'CTYALM', 'CD4   ', 'CD25  ', 'CD8   ', 'ESCAPP', 'CD23  ',\n",
       "       'SILCAL', 'CD26  ', 'ARSRPT', 'CD10  ', 'OVRCRD', 'FDBODY',\n",
       "       'BIOT  ', 'BRKDOG', 'TEST  ', 'TREE  ', 'FIRWKS', 'CD13  ',\n",
       "       'VANGRP', 'MISC', 'TRPSCH', 'CD18  ', 'UNK', 'FELONY', 'VANGRI',\n",
       "       'NOTIFY', 'MVAE  ', 'PROP', 'CODE99', 'VAND', 'REQBHA', 'CD20  ',\n",
       "       'EXPLOS', 'VIDEOC', 'REFER ', 'CD6   ', 'DRUNKS', 'NOISMV',\n",
       "       'ANMRPT', 'CD17  ', 'ABANPH', 'VNDINV', 'ADMRPT', 'DETAIL',\n",
       "       'CD303A', 'CD28  ', 'IVMV', 'AU    ', 'ANMBIT', 'CD3   ', 'BE',\n",
       "       'MVA', 'HSTG  ', 'AB', 'REQP', 'ROBBER', 'DVIP', 'BUYBAK', 'MISSIN',\n",
       "       'SS', 'BOMBR ', 'CD9', 'TS', 'SHOTS', 'CD11', 'AOD', 'NIDV',\n",
       "       'C99   ', 'CD7', 'FIGHT', 'CD35', 'BOMB', 'reqp', 'LOCKOU', 'EDP',\n",
       "       'STAB', 'PSHOT', 'CARDIA', 'FO', 'ALARM', 'FIRE', 'CD19', 'STREET',\n",
       "       'UNKEMS', 'POISON', 'CD14', 'CD5', 'CD13', 'PRIOR', 'SP', 'cd11',\n",
       "       'SUSOBJ', 'OT', 'CD16', 'cd9', 'INJ', 'ABAN', 'CD23', 'CD15', 'CD4',\n",
       "       'cd16', 'CD99', 'aod', 'TP', 'BUYBAC', 'CD12', 'REQEP', 'CD24',\n",
       "       'CD26', 'TESTBP', 'RESP', 'CD303', 'SSA', 'LOGAN', 'RAPE', 'DROWN',\n",
       "       'CD19F', 'CD8', 'unkems', 'Prscrm', 'BLEED', 'BURN', 'fight',\n",
       "       'ADVISE', 'REQH', 'MAJOR', 'SNOW', 'ts', 'CD19S', 'BOLO'], dtype=object)"
      ]
     },
     "execution_count": 79,
     "metadata": {},
     "output_type": "execute_result"
    }
   ],
   "source": [
    "alldata['NatureCode'].unique()"
   ]
  },
  {
   "cell_type": "code",
   "execution_count": 80,
   "metadata": {
    "collapsed": false
   },
   "outputs": [
    {
     "name": "stdout",
     "output_type": "stream",
     "text": [
      "['05RB' '04xx' '03xx' '05CB' '08xx' 'MedAssist' 'BENoProp' 'VAL' '11xx'\n",
      " 'PropFound' 'InvPer' 'TOWED' '15xx' 'InvProp' '18xx' 'PersLoc' 'PropLost'\n",
      " '06xx' '07xx' 'Arrest' '14xx' 'MVAcc' '20xx' 'PhoneCalls' '06MV' 'FIRE'\n",
      " 'Ballist' 'PubDrink' 'Argue' 'Restrain' 'Gather' 'Service' 'SkipFare'\n",
      " 'SearchWarr' '32GUN' 'Harass' '12xx' 'OTHER' 'PRISON' '10xx' 'PersMiss'\n",
      " '01INV' 'LICViol' 'Landlord' 'Hazardous' 'Plates' '07RV' 'PropDam'\n",
      " 'SexReg' '01xx' '21xx' '13xx' 'Runaway' '24xx' 'HateCrim' '16xx'\n",
      " 'TRESPASS' '09xx' 'BurgTools' 'Explos' '22xx' 'Harbor' 'InvVeh' 'Bomb'\n",
      " 'Aircraft' 'Labor' 'Manslaug' '19xx' 'BioThreat']\n",
      "69\n"
     ]
    }
   ],
   "source": [
    "print (alldata['MAIN_CRIMECODE'].unique())\n",
    "print (len(alldata['MAIN_CRIMECODE'].unique()))"
   ]
  },
  {
   "cell_type": "markdown",
   "metadata": {},
   "source": [
    "With 77 possible outcomes the range of categories is too broad for multiclass classification. \n",
    "\n",
    "The remaining possibility is to create a binary category of a violent crime. The division would be the WEAPONTYPE - if the criminal is armed the crime is supposed to be violent."
   ]
  },
  {
   "cell_type": "code",
   "execution_count": 81,
   "metadata": {
    "collapsed": true
   },
   "outputs": [],
   "source": [
    "alldata.loc[(alldata['WEAPONTYPE']=='Unarmed'),'VIOLENT']=0\n",
    "alldata.loc[(alldata['WEAPONTYPE']!='Unarmed')&(alldata['WEAPONTYPE']!='Personal Weapon (hand  foot  etc.)'),'VIOLENT']=1"
   ]
  },
  {
   "cell_type": "code",
   "execution_count": 82,
   "metadata": {
    "collapsed": false
   },
   "outputs": [
    {
     "data": {
      "text/html": [
       "<div>\n",
       "<table border=\"1\" class=\"dataframe\">\n",
       "  <thead>\n",
       "    <tr style=\"text-align: right;\">\n",
       "      <th>col_0</th>\n",
       "      <th>sum</th>\n",
       "    </tr>\n",
       "    <tr>\n",
       "      <th>WEAPONTYPE</th>\n",
       "      <th></th>\n",
       "    </tr>\n",
       "  </thead>\n",
       "  <tbody>\n",
       "    <tr>\n",
       "      <th>Firearm</th>\n",
       "      <td>4917</td>\n",
       "    </tr>\n",
       "    <tr>\n",
       "      <th>Knife</th>\n",
       "      <td>3713</td>\n",
       "    </tr>\n",
       "    <tr>\n",
       "      <th>Other</th>\n",
       "      <td>49895</td>\n",
       "    </tr>\n",
       "    <tr>\n",
       "      <th>Unarmed</th>\n",
       "      <td>185022</td>\n",
       "    </tr>\n",
       "  </tbody>\n",
       "</table>\n",
       "</div>"
      ],
      "text/plain": [
       "col_0          sum\n",
       "WEAPONTYPE        \n",
       "Firearm       4917\n",
       "Knife         3713\n",
       "Other        49895\n",
       "Unarmed     185022"
      ]
     },
     "execution_count": 82,
     "metadata": {},
     "output_type": "execute_result"
    }
   ],
   "source": [
    "pd.crosstab(index=alldata['WEAPONTYPE'],columns='sum')"
   ]
  },
  {
   "cell_type": "code",
   "execution_count": 83,
   "metadata": {
    "collapsed": false
   },
   "outputs": [
    {
     "data": {
      "text/html": [
       "<div>\n",
       "<table border=\"1\" class=\"dataframe\">\n",
       "  <thead>\n",
       "    <tr style=\"text-align: right;\">\n",
       "      <th>col_0</th>\n",
       "      <th>sum</th>\n",
       "    </tr>\n",
       "    <tr>\n",
       "      <th>VIOLENT</th>\n",
       "      <th></th>\n",
       "    </tr>\n",
       "  </thead>\n",
       "  <tbody>\n",
       "    <tr>\n",
       "      <th>0.0</th>\n",
       "      <td>185022</td>\n",
       "    </tr>\n",
       "    <tr>\n",
       "      <th>1.0</th>\n",
       "      <td>58525</td>\n",
       "    </tr>\n",
       "  </tbody>\n",
       "</table>\n",
       "</div>"
      ],
      "text/plain": [
       "col_0       sum\n",
       "VIOLENT        \n",
       "0.0      185022\n",
       "1.0       58525"
      ]
     },
     "execution_count": 83,
     "metadata": {},
     "output_type": "execute_result"
    }
   ],
   "source": [
    "pd.crosstab(index=alldata['VIOLENT'],columns='sum')"
   ]
  },
  {
   "cell_type": "code",
   "execution_count": 84,
   "metadata": {
    "collapsed": true
   },
   "outputs": [],
   "source": [
    "alldata['FROMDATEDAY'] = pd.to_datetime(alldata['FROMDATE'], format='%m/%d/%Y %I:%M:%S %p')\n",
    "alldata.set_index('FROMDATEDAY', inplace=True)\n",
    "alldata.sort_index(inplace=True)"
   ]
  },
  {
   "cell_type": "code",
   "execution_count": 85,
   "metadata": {
    "collapsed": true
   },
   "outputs": [],
   "source": [
    "alldata['DAY'] = alldata.index.day\n",
    "alldata['HOUR'] = alldata.index.hour"
   ]
  },
  {
   "cell_type": "markdown",
   "metadata": {},
   "source": [
    "Adding counter column to later count events by day"
   ]
  },
  {
   "cell_type": "code",
   "execution_count": 86,
   "metadata": {
    "collapsed": true
   },
   "outputs": [],
   "source": [
    "alldata['COUNT'] = 1"
   ]
  },
  {
   "cell_type": "code",
   "execution_count": 87,
   "metadata": {
    "collapsed": false
   },
   "outputs": [
    {
     "data": {
      "text/html": [
       "<div>\n",
       "<table border=\"1\" class=\"dataframe\">\n",
       "  <thead>\n",
       "    <tr style=\"text-align: right;\">\n",
       "      <th></th>\n",
       "      <th>NatureCode</th>\n",
       "      <th>INCIDENT_TYPE_DESCRIPTION</th>\n",
       "      <th>MAIN_CRIMECODE</th>\n",
       "      <th>REPTDISTRICT</th>\n",
       "      <th>REPORTINGAREA</th>\n",
       "      <th>FROMDATE</th>\n",
       "      <th>WEAPONTYPE</th>\n",
       "      <th>Shooting</th>\n",
       "      <th>DOMESTIC</th>\n",
       "      <th>SHIFT</th>\n",
       "      <th>...</th>\n",
       "      <th>Month</th>\n",
       "      <th>DAY_WEEK</th>\n",
       "      <th>X</th>\n",
       "      <th>Y</th>\n",
       "      <th>STREETNAME</th>\n",
       "      <th>Location</th>\n",
       "      <th>VIOLENT</th>\n",
       "      <th>DAY</th>\n",
       "      <th>HOUR</th>\n",
       "      <th>COUNT</th>\n",
       "    </tr>\n",
       "    <tr>\n",
       "      <th>FROMDATEDAY</th>\n",
       "      <th></th>\n",
       "      <th></th>\n",
       "      <th></th>\n",
       "      <th></th>\n",
       "      <th></th>\n",
       "      <th></th>\n",
       "      <th></th>\n",
       "      <th></th>\n",
       "      <th></th>\n",
       "      <th></th>\n",
       "      <th></th>\n",
       "      <th></th>\n",
       "      <th></th>\n",
       "      <th></th>\n",
       "      <th></th>\n",
       "      <th></th>\n",
       "      <th></th>\n",
       "      <th></th>\n",
       "      <th></th>\n",
       "      <th></th>\n",
       "      <th></th>\n",
       "    </tr>\n",
       "  </thead>\n",
       "  <tbody>\n",
       "    <tr>\n",
       "      <th>2012-07-08 06:00:00</th>\n",
       "      <td>BERPTA</td>\n",
       "      <td>RESIDENTIAL BURGLARY</td>\n",
       "      <td>05RB</td>\n",
       "      <td>D4</td>\n",
       "      <td>629</td>\n",
       "      <td>07/08/2012 06:00:00 AM</td>\n",
       "      <td>Other</td>\n",
       "      <td>No</td>\n",
       "      <td>No</td>\n",
       "      <td>Last</td>\n",
       "      <td>...</td>\n",
       "      <td>7</td>\n",
       "      <td>Sunday</td>\n",
       "      <td>763273.1791</td>\n",
       "      <td>2951498.962</td>\n",
       "      <td>ABERDEEN ST</td>\n",
       "      <td>(42.34638135, -71.10379454)</td>\n",
       "      <td>1.0</td>\n",
       "      <td>8</td>\n",
       "      <td>6</td>\n",
       "      <td>1</td>\n",
       "    </tr>\n",
       "    <tr>\n",
       "      <th>2012-07-08 06:03:00</th>\n",
       "      <td>PSHOT</td>\n",
       "      <td>AGGRAVATED ASSAULT</td>\n",
       "      <td>04xx</td>\n",
       "      <td>B2</td>\n",
       "      <td>327</td>\n",
       "      <td>07/08/2012 06:03:00 AM</td>\n",
       "      <td>Firearm</td>\n",
       "      <td>Yes</td>\n",
       "      <td>No</td>\n",
       "      <td>Last</td>\n",
       "      <td>...</td>\n",
       "      <td>7</td>\n",
       "      <td>Sunday</td>\n",
       "      <td>771223.1638</td>\n",
       "      <td>2940772.099</td>\n",
       "      <td>HOWARD AV</td>\n",
       "      <td>(42.31684135, -71.07458456)</td>\n",
       "      <td>1.0</td>\n",
       "      <td>8</td>\n",
       "      <td>6</td>\n",
       "      <td>1</td>\n",
       "    </tr>\n",
       "    <tr>\n",
       "      <th>2012-07-08 06:26:00</th>\n",
       "      <td>ARMROB</td>\n",
       "      <td>ROBBERY</td>\n",
       "      <td>03xx</td>\n",
       "      <td>D4</td>\n",
       "      <td>625</td>\n",
       "      <td>07/08/2012 06:26:00 AM</td>\n",
       "      <td>Firearm</td>\n",
       "      <td>No</td>\n",
       "      <td>No</td>\n",
       "      <td>Last</td>\n",
       "      <td>...</td>\n",
       "      <td>7</td>\n",
       "      <td>Sunday</td>\n",
       "      <td>765118.8605</td>\n",
       "      <td>2950217.536</td>\n",
       "      <td>JERSEY ST</td>\n",
       "      <td>(42.34284135, -71.09698955)</td>\n",
       "      <td>1.0</td>\n",
       "      <td>8</td>\n",
       "      <td>6</td>\n",
       "      <td>1</td>\n",
       "    </tr>\n",
       "    <tr>\n",
       "      <th>2012-07-08 06:56:00</th>\n",
       "      <td>ALARMC</td>\n",
       "      <td>COMMERCIAL BURGLARY</td>\n",
       "      <td>05CB</td>\n",
       "      <td>B2</td>\n",
       "      <td>258</td>\n",
       "      <td>07/08/2012 06:56:00 AM</td>\n",
       "      <td>Other</td>\n",
       "      <td>No</td>\n",
       "      <td>No</td>\n",
       "      <td>Last</td>\n",
       "      <td>...</td>\n",
       "      <td>7</td>\n",
       "      <td>Sunday</td>\n",
       "      <td>773591.8648</td>\n",
       "      <td>2940638.174</td>\n",
       "      <td>COLUMBIA RD</td>\n",
       "      <td>(42.3164411, -71.06582908)</td>\n",
       "      <td>1.0</td>\n",
       "      <td>8</td>\n",
       "      <td>6</td>\n",
       "      <td>1</td>\n",
       "    </tr>\n",
       "    <tr>\n",
       "      <th>2012-07-08 07:15:00</th>\n",
       "      <td>ARMROB</td>\n",
       "      <td>ROBBERY</td>\n",
       "      <td>03xx</td>\n",
       "      <td>E18</td>\n",
       "      <td>496</td>\n",
       "      <td>07/08/2012 07:15:00 AM</td>\n",
       "      <td>Firearm</td>\n",
       "      <td>No</td>\n",
       "      <td>No</td>\n",
       "      <td>Last</td>\n",
       "      <td>...</td>\n",
       "      <td>7</td>\n",
       "      <td>Sunday</td>\n",
       "      <td>759042.7315</td>\n",
       "      <td>2923832.681</td>\n",
       "      <td>COLLINS ST</td>\n",
       "      <td>(42.27051636, -71.11989955)</td>\n",
       "      <td>1.0</td>\n",
       "      <td>8</td>\n",
       "      <td>7</td>\n",
       "      <td>1</td>\n",
       "    </tr>\n",
       "  </tbody>\n",
       "</table>\n",
       "<p>5 rows × 21 columns</p>\n",
       "</div>"
      ],
      "text/plain": [
       "                    NatureCode INCIDENT_TYPE_DESCRIPTION MAIN_CRIMECODE  \\\n",
       "FROMDATEDAY                                                               \n",
       "2012-07-08 06:00:00     BERPTA      RESIDENTIAL BURGLARY           05RB   \n",
       "2012-07-08 06:03:00     PSHOT         AGGRAVATED ASSAULT           04xx   \n",
       "2012-07-08 06:26:00     ARMROB                   ROBBERY           03xx   \n",
       "2012-07-08 06:56:00     ALARMC       COMMERCIAL BURGLARY           05CB   \n",
       "2012-07-08 07:15:00     ARMROB                   ROBBERY           03xx   \n",
       "\n",
       "                    REPTDISTRICT  REPORTINGAREA                FROMDATE  \\\n",
       "FROMDATEDAY                                                               \n",
       "2012-07-08 06:00:00           D4            629  07/08/2012 06:00:00 AM   \n",
       "2012-07-08 06:03:00           B2            327  07/08/2012 06:03:00 AM   \n",
       "2012-07-08 06:26:00           D4            625  07/08/2012 06:26:00 AM   \n",
       "2012-07-08 06:56:00           B2            258  07/08/2012 06:56:00 AM   \n",
       "2012-07-08 07:15:00          E18            496  07/08/2012 07:15:00 AM   \n",
       "\n",
       "                    WEAPONTYPE Shooting DOMESTIC SHIFT  ...    Month  \\\n",
       "FROMDATEDAY                                             ...            \n",
       "2012-07-08 06:00:00      Other       No       No  Last  ...        7   \n",
       "2012-07-08 06:03:00    Firearm      Yes       No  Last  ...        7   \n",
       "2012-07-08 06:26:00    Firearm       No       No  Last  ...        7   \n",
       "2012-07-08 06:56:00      Other       No       No  Last  ...        7   \n",
       "2012-07-08 07:15:00    Firearm       No       No  Last  ...        7   \n",
       "\n",
       "                     DAY_WEEK            X            Y   STREETNAME  \\\n",
       "FROMDATEDAY                                                            \n",
       "2012-07-08 06:00:00    Sunday  763273.1791  2951498.962  ABERDEEN ST   \n",
       "2012-07-08 06:03:00    Sunday  771223.1638  2940772.099    HOWARD AV   \n",
       "2012-07-08 06:26:00    Sunday  765118.8605  2950217.536    JERSEY ST   \n",
       "2012-07-08 06:56:00    Sunday  773591.8648  2940638.174  COLUMBIA RD   \n",
       "2012-07-08 07:15:00    Sunday  759042.7315  2923832.681   COLLINS ST   \n",
       "\n",
       "                                        Location VIOLENT  DAY  HOUR  COUNT  \n",
       "FROMDATEDAY                                                                 \n",
       "2012-07-08 06:00:00  (42.34638135, -71.10379454)     1.0    8     6      1  \n",
       "2012-07-08 06:03:00  (42.31684135, -71.07458456)     1.0    8     6      1  \n",
       "2012-07-08 06:26:00  (42.34284135, -71.09698955)     1.0    8     6      1  \n",
       "2012-07-08 06:56:00   (42.3164411, -71.06582908)     1.0    8     6      1  \n",
       "2012-07-08 07:15:00  (42.27051636, -71.11989955)     1.0    8     7      1  \n",
       "\n",
       "[5 rows x 21 columns]"
      ]
     },
     "execution_count": 87,
     "metadata": {},
     "output_type": "execute_result"
    }
   ],
   "source": [
    "alldata.head()"
   ]
  },
  {
   "cell_type": "code",
   "execution_count": 88,
   "metadata": {
    "collapsed": true
   },
   "outputs": [],
   "source": [
    "forecast=alldata['COUNT'].resample('D').count()\n",
    "forecastV=alldata['VIOLENT'].resample('D').sum()\n",
    "forecastV=forecastV.astype(int)"
   ]
  },
  {
   "cell_type": "code",
   "execution_count": 89,
   "metadata": {
    "collapsed": false
   },
   "outputs": [
    {
     "data": {
      "text/plain": [
       "FROMDATEDAY\n",
       "2012-07-08    49\n",
       "2012-07-09    74\n",
       "2012-07-10    64\n",
       "2012-07-11    75\n",
       "2012-07-12    65\n",
       "Freq: D, Name: VIOLENT, dtype: int64"
      ]
     },
     "execution_count": 89,
     "metadata": {},
     "output_type": "execute_result"
    }
   ],
   "source": [
    "forecastV.head()"
   ]
  },
  {
   "cell_type": "code",
   "execution_count": 90,
   "metadata": {
    "collapsed": false
   },
   "outputs": [
    {
     "data": {
      "text/plain": [
       "FROMDATEDAY\n",
       "2012-07-08    177\n",
       "2012-07-09    285\n",
       "2012-07-10    263\n",
       "2012-07-11    246\n",
       "2012-07-12    251\n",
       "Freq: D, Name: COUNT, dtype: int64"
      ]
     },
     "execution_count": 90,
     "metadata": {},
     "output_type": "execute_result"
    }
   ],
   "source": [
    "forecast.head()"
   ]
  },
  {
   "cell_type": "markdown",
   "metadata": {},
   "source": [
    "I need to check is the data is stationary, in other words if time series is defined by a trend."
   ]
  },
  {
   "cell_type": "code",
   "execution_count": 91,
   "metadata": {
    "collapsed": false
   },
   "outputs": [
    {
     "data": {
      "image/png": "[encoded data removed]",
      "text/plain": [
       "<matplotlib.figure.Figure at 0x7f92e33c3320>"
      ]
     },
     "metadata": {},
     "output_type": "display_data"
    }
   ],
   "source": [
    "forecast.plot()\n",
    "plt.show()"
   ]
  },
  {
   "cell_type": "markdown",
   "metadata": {},
   "source": [
    "Augmented Dickey-Fuller can be used to check the stationarity of data. It uses an autoregressive model and optimizes an information criterion across multiple different lag values.\n",
    "\n",
    "Result is interpreted using the p-value from the test. A p-value below a threshold (such as 5% or 1%) suggests we reject the null hypothesis (stationary), otherwise a p-value above the threshold suggests we accept the null hypothesis (non-stationary).\n",
    "\n",
    "- p-value > 0.05: Accept the null hypothesis (H0), the data has a unit root and is non-stationary.\n",
    "- p-value <= 0.05: Reject the null hypothesis (H0), the data does not have a unit root and is stationary."
   ]
  },
  {
   "cell_type": "code",
   "execution_count": 92,
   "metadata": {
    "collapsed": false
   },
   "outputs": [
    {
     "name": "stdout",
     "output_type": "stream",
     "text": [
      "ADF Statistic: -1.593031\n",
      "p-value: 0.487093\n",
      "Critical Values:\n",
      "\t1%: -3.437\n",
      "\t5%: -2.864\n",
      "\t10%: -2.568\n"
     ]
    }
   ],
   "source": [
    "from statsmodels.tsa.stattools import adfuller\n",
    "\n",
    "X = forecast.values\n",
    "result = adfuller(X)\n",
    "print('ADF Statistic: %f' % result[0])\n",
    "print('p-value: %f' % result[1])\n",
    "print('Critical Values:')\n",
    "for key, value in result[4].items():\n",
    "\tprint('\\t%s: %.3f' % (key, value))"
   ]
  },
  {
   "cell_type": "code",
   "execution_count": 94,
   "metadata": {
    "collapsed": false
   },
   "outputs": [
    {
     "name": "stdout",
     "output_type": "stream",
     "text": [
      "ADF Statistic: -1.954286\n",
      "p-value: 0.306970\n",
      "Critical Values:\n",
      "\t1%: -3.437\n",
      "\t5%: -2.864\n",
      "\t10%: -2.568\n"
     ]
    }
   ],
   "source": [
    "from statsmodels.tsa.stattools import adfuller\n",
    "\n",
    "XV = forecastV.values\n",
    "result = adfuller(XV)\n",
    "print('ADF Statistic: %f' % result[0])\n",
    "print('p-value: %f' % result[1])\n",
    "print('Critical Values:')\n",
    "for key, value in result[4].items():\n",
    "\tprint('\\t%s: %.3f' % (key, value))"
   ]
  },
  {
   "cell_type": "markdown",
   "metadata": {},
   "source": [
    "In both cases we can't reject null hypothesis as the ADF Statistic isn't even near -2.864 value for 5% p-value. The data is non-stationary and needs to be transformed."
   ]
  },
  {
   "cell_type": "code",
   "execution_count": 96,
   "metadata": {
    "collapsed": true
   },
   "outputs": [],
   "source": [
    "forecast=forecast.reset_index(drop=False)\n",
    "forecastV=forecastV.reset_index(drop=False)"
   ]
  },
  {
   "cell_type": "code",
   "execution_count": 97,
   "metadata": {
    "collapsed": true
   },
   "outputs": [],
   "source": [
    "forecast.columns = ['ds','y']\n",
    "forecastV.columns = ['ds','y']"
   ]
  },
  {
   "cell_type": "code",
   "execution_count": 98,
   "metadata": {
    "collapsed": true
   },
   "outputs": [],
   "source": [
    "forecast['y']=np.log(forecast['y'])\n",
    "forecastV['y']=np.log(forecastV['y'])"
   ]
  },
  {
   "cell_type": "code",
   "execution_count": 99,
   "metadata": {
    "collapsed": false
   },
   "outputs": [
    {
     "name": "stderr",
     "output_type": "stream",
     "text": [
      "INFO:fbprophet.forecaster:Disabling daily seasonality. Run prophet with daily_seasonality=True to override this.\n"
     ]
    },
    {
     "data": {
      "text/plain": [
       "<matplotlib.figure.Figure at 0x7f92e345f630>"
      ]
     },
     "metadata": {},
     "output_type": "display_data"
    },
    {
     "data": {
      "image/png": "[encoded data removed]",
      "text/plain": [
       "<matplotlib.figure.Figure at 0x7f92ec0b2278>"
      ]
     },
     "metadata": {},
     "output_type": "display_data"
    }
   ],
   "source": [
    "from fbprophet import Prophet\n",
    "\n",
    "m = Prophet()\n",
    "m.fit(forecast)\n",
    "future = m.make_future_dataframe(periods=90,freq='D')\n",
    "forecast = m.predict(future)\n",
    "plt.figure(figsize=(10, 10))\n",
    "fig = m.plot(forecast)"
   ]
  },
  {
   "cell_type": "code",
   "execution_count": 100,
   "metadata": {
    "collapsed": false
   },
   "outputs": [
    {
     "data": {
      "image/png": "[encoded data removed]",
      "text/plain": [
       "<matplotlib.figure.Figure at 0x7f92dc7aed30>"
      ]
     },
     "metadata": {},
     "output_type": "display_data"
    }
   ],
   "source": [
    "m.plot_components(forecast);"
   ]
  }
 ],
 "metadata": {
  "kernelspec": {
   "display_name": "Python 3",
   "language": "python",
   "name": "python3"
  },
  "language_info": {
   "codemirror_mode": {
    "name": "ipython",
    "version": 3
   },
   "file_extension": ".py",
   "mimetype": "text/x-python",
   "name": "python",
   "nbconvert_exporter": "python",
   "pygments_lexer": "ipython3",
   "version": "3.6.0"
  }
 },
 "nbformat": 4,
 "nbformat_minor": 2
}
